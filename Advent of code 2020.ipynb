{
 "cells": [
  {
   "cell_type": "markdown",
   "metadata": {},
   "source": [
    "## Day 1"
   ]
  },
  {
   "cell_type": "markdown",
   "metadata": {},
   "source": [
    "### Prepare input"
   ]
  },
  {
   "cell_type": "code",
   "execution_count": null,
   "metadata": {},
   "outputs": [],
   "source": [
    "filename = \"input_day1.txt\"\n",
    "with open(filename) as f:\n",
    "    content = f.readlines()"
   ]
  },
  {
   "cell_type": "code",
   "execution_count": null,
   "metadata": {},
   "outputs": [],
   "source": [
    "content = [int(x.strip()) for x in content[:-1]]"
   ]
  },
  {
   "cell_type": "markdown",
   "metadata": {},
   "source": [
    "### Part 1"
   ]
  },
  {
   "cell_type": "code",
   "execution_count": null,
   "metadata": {},
   "outputs": [],
   "source": [
    "for i in content:\n",
    "    for j in content:\n",
    "        if i == j:\n",
    "            continue\n",
    "        if i+j == 2020:\n",
    "            print(i*j) "
   ]
  },
  {
   "cell_type": "markdown",
   "metadata": {},
   "source": [
    "### Part 2"
   ]
  },
  {
   "cell_type": "code",
   "execution_count": null,
   "metadata": {},
   "outputs": [],
   "source": [
    "for i in content:\n",
    "    for j in content:\n",
    "        for k in content:\n",
    "            if i == j or i == k or j == k: \n",
    "                continue\n",
    "            if i+j+k == 2020:\n",
    "                print(i*j*k)      \n",
    "    "
   ]
  },
  {
   "cell_type": "markdown",
   "metadata": {},
   "source": [
    "## Day 2"
   ]
  },
  {
   "cell_type": "markdown",
   "metadata": {},
   "source": [
    "### Prepare input"
   ]
  },
  {
   "cell_type": "code",
   "execution_count": null,
   "metadata": {},
   "outputs": [],
   "source": [
    "filename = \"input_day2.txt\"\n",
    "with open(filename) as f:\n",
    "    content = f.readlines()\n",
    "    \n",
    "content = [x.strip() for x in content]"
   ]
  },
  {
   "cell_type": "code",
   "execution_count": null,
   "metadata": {},
   "outputs": [],
   "source": [
    "content = [x.split(\":\") for x in content]"
   ]
  },
  {
   "cell_type": "code",
   "execution_count": null,
   "metadata": {},
   "outputs": [],
   "source": [
    "content = [[x.split(\" \"), y.strip()] for x, y in content]"
   ]
  },
  {
   "cell_type": "code",
   "execution_count": null,
   "metadata": {},
   "outputs": [],
   "source": [
    "new_content = []\n",
    "for x,y in content: \n",
    "    m = x[0]\n",
    "    n = m.split(\"-\")\n",
    "    new_content.append([int(n[0]), int(n[1]), x[1], y])"
   ]
  },
  {
   "cell_type": "markdown",
   "metadata": {},
   "source": [
    "### Part 1"
   ]
  },
  {
   "cell_type": "code",
   "execution_count": null,
   "metadata": {},
   "outputs": [],
   "source": [
    "valid_count = 0\n",
    "for mi, ma, key, pwd in new_content:\n",
    "    c = pwd.count(key)\n",
    "    if mi <= c <= ma:\n",
    "        valid_count += 1"
   ]
  },
  {
   "cell_type": "code",
   "execution_count": null,
   "metadata": {},
   "outputs": [],
   "source": [
    "valid_count"
   ]
  },
  {
   "cell_type": "markdown",
   "metadata": {},
   "source": [
    "### Part 2"
   ]
  },
  {
   "cell_type": "code",
   "execution_count": null,
   "metadata": {},
   "outputs": [],
   "source": [
    "valid_count = 0\n",
    "for mi, ma, key, pwd in new_content:\n",
    "    if (pwd[mi - 1] == key and pwd[ma - 1] != key) or (pwd[mi - 1] != key and pwd[ma - 1] == key):\n",
    "        valid_count += 1             "
   ]
  },
  {
   "cell_type": "code",
   "execution_count": null,
   "metadata": {},
   "outputs": [],
   "source": [
    "valid_count"
   ]
  },
  {
   "cell_type": "markdown",
   "metadata": {},
   "source": [
    "## Day 3"
   ]
  },
  {
   "cell_type": "markdown",
   "metadata": {},
   "source": [
    "### Prepare input"
   ]
  },
  {
   "cell_type": "code",
   "execution_count": null,
   "metadata": {},
   "outputs": [],
   "source": [
    "filename = \"input_day3.txt\"\n",
    "with open(filename) as f:\n",
    "    content = f.readlines()\n",
    "\n",
    "content = [x.strip() for x in content]"
   ]
  },
  {
   "cell_type": "markdown",
   "metadata": {},
   "source": [
    "### Part 1"
   ]
  },
  {
   "cell_type": "code",
   "execution_count": null,
   "metadata": {},
   "outputs": [],
   "source": [
    "n_lines = len(content)\n",
    "line_length = len(content[0])"
   ]
  },
  {
   "cell_type": "code",
   "execution_count": null,
   "metadata": {},
   "outputs": [],
   "source": [
    "def count_trees(r_step, d_step):\n",
    "    char_idx = 0\n",
    "    line_idx = 0\n",
    "    count_trees = 0\n",
    "\n",
    "    while line_idx < n_lines:\n",
    "        char_idx = char_idx % line_length\n",
    "        if content[line_idx][char_idx] == '#':\n",
    "            count_trees += 1\n",
    "        line_idx += d_step\n",
    "        char_idx += r_step\n",
    "    \n",
    "    return count_trees"
   ]
  },
  {
   "cell_type": "code",
   "execution_count": null,
   "metadata": {},
   "outputs": [],
   "source": [
    "count_trees(3,1)"
   ]
  },
  {
   "cell_type": "markdown",
   "metadata": {},
   "source": [
    "### Part 2"
   ]
  },
  {
   "cell_type": "code",
   "execution_count": null,
   "metadata": {},
   "outputs": [],
   "source": [
    "count_trees(1,1) * count_trees(3,1) * count_trees(5,1) * count_trees(7,1) * count_trees(1,2)"
   ]
  },
  {
   "cell_type": "markdown",
   "metadata": {},
   "source": [
    "## Day 4"
   ]
  },
  {
   "cell_type": "markdown",
   "metadata": {},
   "source": [
    "### Prepare input"
   ]
  },
  {
   "cell_type": "code",
   "execution_count": null,
   "metadata": {},
   "outputs": [],
   "source": [
    "filename = \"input_day4.txt\"\n",
    "with open(filename) as f:\n",
    "    content = f.readlines()\n",
    "\n",
    "content = [x.strip() for x in content]"
   ]
  },
  {
   "cell_type": "code",
   "execution_count": null,
   "metadata": {},
   "outputs": [],
   "source": [
    "new_content = []\n",
    "cur_pass = {}\n",
    "for line in content:\n",
    "    if not line:\n",
    "        new_content.append(cur_pass)\n",
    "        cur_pass = {}\n",
    "        continue\n",
    "    line_list = line.split(\" \")\n",
    "    for el in line_list:\n",
    "        key, value = el.split(\":\")\n",
    "        cur_pass[key] = value"
   ]
  },
  {
   "cell_type": "markdown",
   "metadata": {},
   "source": [
    "### Part 1"
   ]
  },
  {
   "cell_type": "code",
   "execution_count": null,
   "metadata": {},
   "outputs": [],
   "source": [
    "keys = [\"byr\", \"iyr\", \"eyr\", \"hgt\", \"hcl\", \"ecl\", \"pid\"]\n",
    "valid_count = 0\n",
    "for pass_dict in new_content:\n",
    "    if all(k in pass_dict.keys() for k in keys):\n",
    "        valid_count += 1\n"
   ]
  },
  {
   "cell_type": "code",
   "execution_count": null,
   "metadata": {},
   "outputs": [],
   "source": [
    "valid_count"
   ]
  },
  {
   "cell_type": "markdown",
   "metadata": {},
   "source": [
    "### Part 2"
   ]
  },
  {
   "cell_type": "code",
   "execution_count": null,
   "metadata": {},
   "outputs": [],
   "source": [
    "import re\n",
    "\n",
    "valid_count = 0\n",
    "\n",
    "for pass_dict in new_content:\n",
    "    if all(k in pass_dict.keys() for k in keys):\n",
    "        if (\n",
    "            (1920 <= int(pass_dict[\"byr\"]) <= 2002) and \n",
    "            (2010 <= int(pass_dict[\"iyr\"]) <= 2020) and\n",
    "            (2020 <= int(pass_dict[\"eyr\"]) <= 2030) and\n",
    "            (\n",
    "                (\"cm\" in pass_dict[\"hgt\"] and 150 <= int(re.findall(r\"\\d+\", pass_dict[\"hgt\"])[0]) <= 193) or \n",
    "                (\"in\" in pass_dict[\"hgt\"] and 59 <= int(re.findall(r\"\\d+\", pass_dict[\"hgt\"])[0]) <= 76)\n",
    "            ) and\n",
    "            (re.search(r\"^#[a-f0-9]{6}$\", pass_dict[\"hcl\"])) and\n",
    "            (pass_dict[\"ecl\"] in [\"amb\",\"blu\",\"brn\",\"gry\",\"grn\",\"hzl\",\"oth\"]) and\n",
    "            (re.search(r\"^[0-9]{9}$\", pass_dict[\"pid\"]))\n",
    "           ):\n",
    "            valid_count += 1\n",
    "             \n",
    "        "
   ]
  },
  {
   "cell_type": "code",
   "execution_count": null,
   "metadata": {},
   "outputs": [],
   "source": [
    "valid_count"
   ]
  },
  {
   "cell_type": "markdown",
   "metadata": {},
   "source": [
    "## Day 5"
   ]
  },
  {
   "cell_type": "markdown",
   "metadata": {},
   "source": [
    "### Prepare input"
   ]
  },
  {
   "cell_type": "code",
   "execution_count": null,
   "metadata": {},
   "outputs": [],
   "source": [
    "filename = \"input_day5.txt\"\n",
    "with open(filename) as f:\n",
    "    content = f.readlines()\n",
    "\n",
    "content = [x.strip() for x in content]"
   ]
  },
  {
   "cell_type": "markdown",
   "metadata": {},
   "source": [
    "### Part 1"
   ]
  },
  {
   "cell_type": "code",
   "execution_count": null,
   "metadata": {},
   "outputs": [],
   "source": [
    "def get_low_high(low, high, letter):    \n",
    "    half = (high - low) // 2\n",
    "    if letter in (\"F\",\"L\"):\n",
    "        return low, low + half\n",
    "    if letter in (\"B\",\"R\"):\n",
    "        return low + half + 1, high"
   ]
  },
  {
   "cell_type": "code",
   "execution_count": null,
   "metadata": {},
   "outputs": [],
   "source": [
    "def seat_id(row, col):\n",
    "    return row * 8 + col"
   ]
  },
  {
   "cell_type": "code",
   "execution_count": null,
   "metadata": {},
   "outputs": [],
   "source": [
    "seat_ids = []\n",
    "\n",
    "for line in content:\n",
    "    row_info = line[:7]\n",
    "    col_info = line[7:]\n",
    "    \n",
    "    low = 0\n",
    "    high = 127\n",
    "    for letter in row_info[:-1]:\n",
    "        low, high = get_low_high(low,high,letter)\n",
    "    if row_info[-1] == \"F\":\n",
    "        row = low\n",
    "    elif row_info[-1] == \"B\":\n",
    "        row = high\n",
    "        \n",
    "    low = 0\n",
    "    high = 7\n",
    "    for letter in col_info[:-1]:\n",
    "        low, high = get_low_high(low,high,letter)\n",
    "    if col_info[-1] == \"L\":\n",
    "        col = low\n",
    "    elif col_info[-1] == \"R\":\n",
    "        col = high\n",
    "        \n",
    "    seat_ids.append(seat_id(row, col))"
   ]
  },
  {
   "cell_type": "code",
   "execution_count": null,
   "metadata": {},
   "outputs": [],
   "source": [
    "max(seat_ids)"
   ]
  },
  {
   "cell_type": "markdown",
   "metadata": {},
   "source": [
    "### Part 2"
   ]
  },
  {
   "cell_type": "code",
   "execution_count": null,
   "metadata": {},
   "outputs": [],
   "source": [
    "seat_ids.sort()"
   ]
  },
  {
   "cell_type": "code",
   "execution_count": null,
   "metadata": {},
   "outputs": [],
   "source": [
    "for idx, seat_id in enumerate(seat_ids[:-1]):\n",
    "    if idx==0:\n",
    "        continue\n",
    "    if seat_ids[idx-1] == seat_id - 1 and seat_ids[idx + 1] == seat_id + 1:\n",
    "        continue\n",
    "    else:\n",
    "        print(seat_id + 1)\n",
    "        break\n"
   ]
  },
  {
   "cell_type": "markdown",
   "metadata": {},
   "source": [
    "## Day 6"
   ]
  },
  {
   "cell_type": "markdown",
   "metadata": {},
   "source": [
    "### Prepare input"
   ]
  },
  {
   "cell_type": "code",
   "execution_count": null,
   "metadata": {},
   "outputs": [],
   "source": [
    "filename = \"input_day6.txt\"\n",
    "with open(filename) as f:\n",
    "    content = f.readlines()\n",
    "\n",
    "content = [x.strip() for x in content]"
   ]
  },
  {
   "cell_type": "code",
   "execution_count": null,
   "metadata": {},
   "outputs": [],
   "source": [
    "new_content = []\n",
    "cur_group = []\n",
    "for line in content: \n",
    "    if not line:\n",
    "        new_content.append(cur_group)\n",
    "        cur_group = []\n",
    "        continue\n",
    "    cur_group.append(line)\n",
    "\n",
    "if cur_group:\n",
    "    new_content.append(cur_group)"
   ]
  },
  {
   "cell_type": "code",
   "execution_count": null,
   "metadata": {},
   "outputs": [],
   "source": [
    "new_content"
   ]
  },
  {
   "cell_type": "markdown",
   "metadata": {},
   "source": [
    "### Part 1"
   ]
  },
  {
   "cell_type": "code",
   "execution_count": null,
   "metadata": {},
   "outputs": [],
   "source": [
    "sum(len(set(\"\".join(group))) for group in new_content)"
   ]
  },
  {
   "cell_type": "markdown",
   "metadata": {},
   "source": [
    "### Part 2"
   ]
  },
  {
   "cell_type": "code",
   "execution_count": null,
   "metadata": {},
   "outputs": [],
   "source": [
    "sum(len(set.intersection(*[set(el) for el in group])) for group in new_content)  "
   ]
  },
  {
   "cell_type": "markdown",
   "metadata": {},
   "source": [
    "## Day 7"
   ]
  },
  {
   "cell_type": "markdown",
   "metadata": {},
   "source": [
    "### Prepare input"
   ]
  },
  {
   "cell_type": "code",
   "execution_count": null,
   "metadata": {},
   "outputs": [],
   "source": [
    "filename = \"input_day7.txt\"\n",
    "with open(filename) as f:\n",
    "    content = f.readlines()\n",
    "\n",
    "content = [x.strip() for x in content]"
   ]
  },
  {
   "cell_type": "code",
   "execution_count": null,
   "metadata": {},
   "outputs": [],
   "source": [
    "outer_colors = [\" \".join(line.split(\" \")[:2]) for line in content]\n",
    "inner_colors = [re.findall(r\"(\\d+) (\\w+ \\w+)\", line) for line in content]"
   ]
  },
  {
   "cell_type": "markdown",
   "metadata": {},
   "source": [
    "### Part 1"
   ]
  },
  {
   "cell_type": "code",
   "execution_count": null,
   "metadata": {},
   "outputs": [],
   "source": [
    "from collections import defaultdict\n",
    "\n",
    "inners_dict = defaultdict(set)\n",
    "for inners, outer in zip(inner_colors, outer_colors):\n",
    "    for inner in inners:\n",
    "        inners_dict[inner[1]].add(outer)"
   ]
  },
  {
   "cell_type": "code",
   "execution_count": null,
   "metadata": {},
   "outputs": [],
   "source": [
    "final_colors = []\n",
    "def check_color(color):\n",
    "    for parent in inners_dict[color]:\n",
    "        final_colors.append(parent)\n",
    "        check_color(parent)\n",
    "        \n",
    "check_color(\"shiny gold\")"
   ]
  },
  {
   "cell_type": "code",
   "execution_count": null,
   "metadata": {},
   "outputs": [],
   "source": [
    "len(set(final_colors))"
   ]
  },
  {
   "cell_type": "markdown",
   "metadata": {},
   "source": [
    "###  Part 2"
   ]
  },
  {
   "cell_type": "code",
   "execution_count": null,
   "metadata": {},
   "outputs": [],
   "source": [
    "def get_number_bags(color):\n",
    "    number_bags = 0\n",
    "    sub_colors = inner_colors[outer_colors.index(color)]\n",
    "    for n, col in sub_colors:\n",
    "        n = int(n)\n",
    "        number_bags += n # add those bags\n",
    "        number_bags += n * get_number_bags(col) # add all bags contained within those\n",
    "    return number_bags"
   ]
  },
  {
   "cell_type": "code",
   "execution_count": null,
   "metadata": {},
   "outputs": [],
   "source": [
    "get_number_bags(\"shiny gold\")"
   ]
  },
  {
   "cell_type": "markdown",
   "metadata": {},
   "source": [
    "## Day 8"
   ]
  },
  {
   "cell_type": "markdown",
   "metadata": {},
   "source": [
    "### Prepare input"
   ]
  },
  {
   "cell_type": "code",
   "execution_count": null,
   "metadata": {},
   "outputs": [],
   "source": [
    "filename = \"input_day8.txt\"\n",
    "with open(filename) as f:\n",
    "    content = f.readlines()\n",
    "\n",
    "content = [x.strip().split() for x in content]"
   ]
  },
  {
   "cell_type": "markdown",
   "metadata": {},
   "source": [
    "### Part 1"
   ]
  },
  {
   "cell_type": "code",
   "execution_count": null,
   "metadata": {
    "scrolled": false
   },
   "outputs": [],
   "source": [
    "import re\n",
    "\n",
    "def run_instructions(cont):\n",
    "    seen = []\n",
    "    acc = 0\n",
    "    idx = 0\n",
    "    while idx not in seen and idx < len(cont): \n",
    "        seen.append(idx)\n",
    "        op, instr = cont[idx]\n",
    "        if op == \"nop\":\n",
    "            idx += 1\n",
    "        elif op == \"acc\":\n",
    "            value = int(re.findall(r\"\\d+\", instr)[0])\n",
    "            if instr.startswith(\"-\"):\n",
    "                acc -= value\n",
    "                idx += 1\n",
    "            else:\n",
    "                acc += value\n",
    "                idx += 1\n",
    "        elif op == \"jmp\":\n",
    "            value = int(re.findall(r\"\\d+\", instr)[0])\n",
    "            if instr.startswith(\"-\"):\n",
    "                idx -= value\n",
    "            else:\n",
    "                idx += value\n",
    "    return acc, seen"
   ]
  },
  {
   "cell_type": "code",
   "execution_count": null,
   "metadata": {},
   "outputs": [],
   "source": [
    "run_instructions(content)[0]"
   ]
  },
  {
   "cell_type": "markdown",
   "metadata": {},
   "source": [
    "### Part 2"
   ]
  },
  {
   "cell_type": "code",
   "execution_count": null,
   "metadata": {},
   "outputs": [],
   "source": [
    "last_idx = len(content) - 1"
   ]
  },
  {
   "cell_type": "code",
   "execution_count": null,
   "metadata": {},
   "outputs": [],
   "source": [
    "def get_replacement(content, index):\n",
    "    new_content = content.copy()\n",
    "    op, inst = new_content[index]\n",
    "    new = \"nop\" if op == \"jmp\" else \"jmp\"\n",
    "    new_content[index] = [new, inst]\n",
    "    return new_content"
   ]
  },
  {
   "cell_type": "code",
   "execution_count": null,
   "metadata": {},
   "outputs": [],
   "source": [
    "def run_part2(indices):\n",
    "    terminated = False\n",
    "    for idx in indices: \n",
    "        new_content = get_replacement(content, idx)\n",
    "        acc, seen = run_instructions(new_content)\n",
    "        if last_idx in seen:\n",
    "            terminated = True\n",
    "            break \n",
    "    return terminated, acc\n",
    "        "
   ]
  },
  {
   "cell_type": "code",
   "execution_count": null,
   "metadata": {},
   "outputs": [],
   "source": [
    "nop_indices = [idx for idx, (op, _) in enumerate(content) if op == \"nop\"]\n",
    "jmp_indices = [idx for idx, (op, _) in enumerate(content) if op == \"jmp\"]"
   ]
  },
  {
   "cell_type": "code",
   "execution_count": null,
   "metadata": {},
   "outputs": [],
   "source": [
    "run_part2(nop_indices)"
   ]
  },
  {
   "cell_type": "code",
   "execution_count": null,
   "metadata": {},
   "outputs": [],
   "source": [
    "run_part2(jmp_indices)"
   ]
  },
  {
   "cell_type": "code",
   "execution_count": null,
   "metadata": {},
   "outputs": [],
   "source": []
  }
 ],
 "metadata": {
  "kernelspec": {
   "display_name": "Python [conda env:aoc]",
   "language": "python",
   "name": "conda-env-aoc-py"
  },
  "language_info": {
   "codemirror_mode": {
    "name": "ipython",
    "version": 3
   },
   "file_extension": ".py",
   "mimetype": "text/x-python",
   "name": "python",
   "nbconvert_exporter": "python",
   "pygments_lexer": "ipython3",
   "version": "3.8.5"
  }
 },
 "nbformat": 4,
 "nbformat_minor": 2
}
