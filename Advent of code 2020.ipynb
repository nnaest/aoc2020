{
 "cells": [
  {
   "cell_type": "markdown",
   "metadata": {},
   "source": [
    "## Day 1"
   ]
  },
  {
   "cell_type": "markdown",
   "metadata": {},
   "source": [
    "### Prepare input"
   ]
  },
  {
   "cell_type": "code",
   "execution_count": null,
   "metadata": {},
   "outputs": [],
   "source": [
    "filename = \"input_day1.txt\"\n",
    "with open(filename) as f:\n",
    "    content = f.readlines()"
   ]
  },
  {
   "cell_type": "code",
   "execution_count": null,
   "metadata": {},
   "outputs": [],
   "source": [
    "content = [int(x.strip()) for x in content[:-1]]"
   ]
  },
  {
   "cell_type": "markdown",
   "metadata": {},
   "source": [
    "### Part 1"
   ]
  },
  {
   "cell_type": "code",
   "execution_count": null,
   "metadata": {},
   "outputs": [],
   "source": [
    "for i in content:\n",
    "    for j in content:\n",
    "        if i == j:\n",
    "            continue\n",
    "        if i+j == 2020:\n",
    "            print(i*j) "
   ]
  },
  {
   "cell_type": "markdown",
   "metadata": {},
   "source": [
    "### Part 2"
   ]
  },
  {
   "cell_type": "code",
   "execution_count": null,
   "metadata": {},
   "outputs": [],
   "source": [
    "for i in content:\n",
    "    for j in content:\n",
    "        for k in content:\n",
    "            if i == j or i == k or j == k: \n",
    "                continue\n",
    "            if i+j+k == 2020:\n",
    "                print(i*j*k)      \n",
    "    "
   ]
  },
  {
   "cell_type": "markdown",
   "metadata": {},
   "source": [
    "## Day 2"
   ]
  },
  {
   "cell_type": "markdown",
   "metadata": {},
   "source": [
    "### Prepare input"
   ]
  },
  {
   "cell_type": "code",
   "execution_count": null,
   "metadata": {},
   "outputs": [],
   "source": [
    "filename = \"input_day2.txt\"\n",
    "with open(filename) as f:\n",
    "    content = f.readlines()\n",
    "    \n",
    "content = [x.strip() for x in content]"
   ]
  },
  {
   "cell_type": "code",
   "execution_count": null,
   "metadata": {},
   "outputs": [],
   "source": [
    "content = [x.split(\":\") for x in content]"
   ]
  },
  {
   "cell_type": "code",
   "execution_count": null,
   "metadata": {},
   "outputs": [],
   "source": [
    "content = [[x.split(\" \"), y.strip()] for x, y in content]"
   ]
  },
  {
   "cell_type": "code",
   "execution_count": null,
   "metadata": {},
   "outputs": [],
   "source": [
    "new_content = []\n",
    "for x,y in content: \n",
    "    m = x[0]\n",
    "    n = m.split(\"-\")\n",
    "    new_content.append([int(n[0]), int(n[1]), x[1], y])"
   ]
  },
  {
   "cell_type": "markdown",
   "metadata": {},
   "source": [
    "### Part 1"
   ]
  },
  {
   "cell_type": "code",
   "execution_count": null,
   "metadata": {},
   "outputs": [],
   "source": [
    "valid_count = 0\n",
    "for mi, ma, key, pwd in new_content:\n",
    "    c = pwd.count(key)\n",
    "    if mi <= c <= ma:\n",
    "        valid_count += 1"
   ]
  },
  {
   "cell_type": "code",
   "execution_count": null,
   "metadata": {},
   "outputs": [],
   "source": [
    "valid_count"
   ]
  },
  {
   "cell_type": "markdown",
   "metadata": {},
   "source": [
    "### Part 2"
   ]
  },
  {
   "cell_type": "code",
   "execution_count": null,
   "metadata": {},
   "outputs": [],
   "source": [
    "valid_count = 0\n",
    "for mi, ma, key, pwd in new_content:\n",
    "    if (pwd[mi - 1] == key and pwd[ma - 1] != key) or (pwd[mi - 1] != key and pwd[ma - 1] == key):\n",
    "        valid_count += 1             "
   ]
  },
  {
   "cell_type": "code",
   "execution_count": null,
   "metadata": {},
   "outputs": [],
   "source": [
    "valid_count"
   ]
  },
  {
   "cell_type": "markdown",
   "metadata": {},
   "source": [
    "## Day 3"
   ]
  },
  {
   "cell_type": "markdown",
   "metadata": {},
   "source": [
    "### Prepare input"
   ]
  },
  {
   "cell_type": "code",
   "execution_count": null,
   "metadata": {},
   "outputs": [],
   "source": [
    "filename = \"input_day3.txt\"\n",
    "with open(filename) as f:\n",
    "    content = f.readlines()\n",
    "\n",
    "content = [x.strip() for x in content]"
   ]
  },
  {
   "cell_type": "markdown",
   "metadata": {},
   "source": [
    "### Part 1"
   ]
  },
  {
   "cell_type": "code",
   "execution_count": null,
   "metadata": {},
   "outputs": [],
   "source": [
    "n_lines = len(content)\n",
    "line_length = len(content[0])"
   ]
  },
  {
   "cell_type": "code",
   "execution_count": null,
   "metadata": {},
   "outputs": [],
   "source": [
    "def count_trees(r_step, d_step):\n",
    "    char_idx = 0\n",
    "    line_idx = 0\n",
    "    count_trees = 0\n",
    "\n",
    "    while line_idx < n_lines:\n",
    "        char_idx = char_idx % line_length\n",
    "        if content[line_idx][char_idx] == '#':\n",
    "            count_trees += 1\n",
    "        line_idx += d_step\n",
    "        char_idx += r_step\n",
    "    \n",
    "    return count_trees"
   ]
  },
  {
   "cell_type": "code",
   "execution_count": null,
   "metadata": {},
   "outputs": [],
   "source": [
    "count_trees(3,1)"
   ]
  },
  {
   "cell_type": "markdown",
   "metadata": {},
   "source": [
    "### Part 2"
   ]
  },
  {
   "cell_type": "code",
   "execution_count": null,
   "metadata": {},
   "outputs": [],
   "source": [
    "count_trees(1,1) * count_trees(3,1) * count_trees(5,1) * count_trees(7,1) * count_trees(1,2)"
   ]
  },
  {
   "cell_type": "markdown",
   "metadata": {},
   "source": [
    "## Day 4"
   ]
  },
  {
   "cell_type": "markdown",
   "metadata": {},
   "source": [
    "### Prepare input"
   ]
  },
  {
   "cell_type": "code",
   "execution_count": null,
   "metadata": {},
   "outputs": [],
   "source": [
    "filename = \"input_day4.txt\"\n",
    "with open(filename) as f:\n",
    "    content = f.readlines()\n",
    "\n",
    "content = [x.strip() for x in content]"
   ]
  },
  {
   "cell_type": "code",
   "execution_count": null,
   "metadata": {},
   "outputs": [],
   "source": [
    "new_content = []\n",
    "cur_pass = {}\n",
    "for line in content:\n",
    "    if not line:\n",
    "        new_content.append(cur_pass)\n",
    "        cur_pass = {}\n",
    "        continue\n",
    "    line_list = line.split(\" \")\n",
    "    for el in line_list:\n",
    "        key, value = el.split(\":\")\n",
    "        cur_pass[key] = value"
   ]
  },
  {
   "cell_type": "markdown",
   "metadata": {},
   "source": [
    "### Part 1"
   ]
  },
  {
   "cell_type": "code",
   "execution_count": null,
   "metadata": {},
   "outputs": [],
   "source": [
    "keys = [\"byr\", \"iyr\", \"eyr\", \"hgt\", \"hcl\", \"ecl\", \"pid\"]\n",
    "valid_count = 0\n",
    "for pass_dict in new_content:\n",
    "    if all(k in pass_dict.keys() for k in keys):\n",
    "        valid_count += 1\n"
   ]
  },
  {
   "cell_type": "code",
   "execution_count": null,
   "metadata": {},
   "outputs": [],
   "source": [
    "valid_count"
   ]
  },
  {
   "cell_type": "markdown",
   "metadata": {},
   "source": [
    "### Part 2"
   ]
  },
  {
   "cell_type": "code",
   "execution_count": null,
   "metadata": {},
   "outputs": [],
   "source": [
    "import re\n",
    "\n",
    "valid_count = 0\n",
    "\n",
    "for pass_dict in new_content:\n",
    "    if all(k in pass_dict.keys() for k in keys):\n",
    "        if (\n",
    "            (1920 <= int(pass_dict[\"byr\"]) <= 2002) and \n",
    "            (2010 <= int(pass_dict[\"iyr\"]) <= 2020) and\n",
    "            (2020 <= int(pass_dict[\"eyr\"]) <= 2030) and\n",
    "            (\n",
    "                (\"cm\" in pass_dict[\"hgt\"] and 150 <= int(re.findall(r\"\\d+\", pass_dict[\"hgt\"])[0]) <= 193) or \n",
    "                (\"in\" in pass_dict[\"hgt\"] and 59 <= int(re.findall(r\"\\d+\", pass_dict[\"hgt\"])[0]) <= 76)\n",
    "            ) and\n",
    "            (re.search(r\"^#[a-f0-9]{6}$\", pass_dict[\"hcl\"])) and\n",
    "            (pass_dict[\"ecl\"] in [\"amb\",\"blu\",\"brn\",\"gry\",\"grn\",\"hzl\",\"oth\"]) and\n",
    "            (re.search(r\"^[0-9]{9}$\", pass_dict[\"pid\"]))\n",
    "           ):\n",
    "            valid_count += 1\n",
    "             \n",
    "        "
   ]
  },
  {
   "cell_type": "code",
   "execution_count": null,
   "metadata": {},
   "outputs": [],
   "source": [
    "valid_count"
   ]
  },
  {
   "cell_type": "markdown",
   "metadata": {},
   "source": [
    "## Day 5"
   ]
  },
  {
   "cell_type": "markdown",
   "metadata": {},
   "source": [
    "### Prepare input"
   ]
  },
  {
   "cell_type": "code",
   "execution_count": null,
   "metadata": {},
   "outputs": [],
   "source": [
    "filename = \"input_day5.txt\"\n",
    "with open(filename) as f:\n",
    "    content = f.readlines()\n",
    "\n",
    "content = [x.strip() for x in content]"
   ]
  },
  {
   "cell_type": "markdown",
   "metadata": {},
   "source": [
    "### Part 1"
   ]
  },
  {
   "cell_type": "code",
   "execution_count": null,
   "metadata": {},
   "outputs": [],
   "source": [
    "def get_low_high(low, high, letter):    \n",
    "    half = (high - low) // 2\n",
    "    if letter in (\"F\",\"L\"):\n",
    "        return low, low + half\n",
    "    if letter in (\"B\",\"R\"):\n",
    "        return low + half + 1, high"
   ]
  },
  {
   "cell_type": "code",
   "execution_count": null,
   "metadata": {},
   "outputs": [],
   "source": [
    "def seat_id(row, col):\n",
    "    return row * 8 + col"
   ]
  },
  {
   "cell_type": "code",
   "execution_count": null,
   "metadata": {},
   "outputs": [],
   "source": [
    "seat_ids = []\n",
    "\n",
    "for line in content:\n",
    "    row_info = line[:7]\n",
    "    col_info = line[7:]\n",
    "    \n",
    "    low = 0\n",
    "    high = 127\n",
    "    for letter in row_info[:-1]:\n",
    "        low, high = get_low_high(low,high,letter)\n",
    "    if row_info[-1] == \"F\":\n",
    "        row = low\n",
    "    elif row_info[-1] == \"B\":\n",
    "        row = high\n",
    "        \n",
    "    low = 0\n",
    "    high = 7\n",
    "    for letter in col_info[:-1]:\n",
    "        low, high = get_low_high(low,high,letter)\n",
    "    if col_info[-1] == \"L\":\n",
    "        col = low\n",
    "    elif col_info[-1] == \"R\":\n",
    "        col = high\n",
    "        \n",
    "    seat_ids.append(seat_id(row, col))"
   ]
  },
  {
   "cell_type": "code",
   "execution_count": null,
   "metadata": {},
   "outputs": [],
   "source": [
    "max(seat_ids)"
   ]
  },
  {
   "cell_type": "markdown",
   "metadata": {},
   "source": [
    "### Part 2"
   ]
  },
  {
   "cell_type": "code",
   "execution_count": null,
   "metadata": {},
   "outputs": [],
   "source": [
    "seat_ids.sort()"
   ]
  },
  {
   "cell_type": "code",
   "execution_count": null,
   "metadata": {},
   "outputs": [],
   "source": [
    "for idx, seat_id in enumerate(seat_ids[:-1]):\n",
    "    if idx==0:\n",
    "        continue\n",
    "    if seat_ids[idx-1] == seat_id - 1 and seat_ids[idx + 1] == seat_id + 1:\n",
    "        continue\n",
    "    else:\n",
    "        print(seat_id + 1)\n",
    "        break\n"
   ]
  },
  {
   "cell_type": "markdown",
   "metadata": {},
   "source": [
    "## Day 6"
   ]
  },
  {
   "cell_type": "markdown",
   "metadata": {},
   "source": [
    "### Prepare input"
   ]
  },
  {
   "cell_type": "code",
   "execution_count": null,
   "metadata": {},
   "outputs": [],
   "source": [
    "filename = \"input_day6.txt\"\n",
    "with open(filename) as f:\n",
    "    content = f.readlines()\n",
    "\n",
    "content = [x.strip() for x in content]"
   ]
  },
  {
   "cell_type": "code",
   "execution_count": null,
   "metadata": {},
   "outputs": [],
   "source": [
    "new_content = []\n",
    "cur_group = []\n",
    "for line in content: \n",
    "    if not line:\n",
    "        new_content.append(cur_group)\n",
    "        cur_group = []\n",
    "        continue\n",
    "    cur_group.append(line)\n",
    "\n",
    "if cur_group:\n",
    "    new_content.append(cur_group)"
   ]
  },
  {
   "cell_type": "code",
   "execution_count": null,
   "metadata": {},
   "outputs": [],
   "source": [
    "new_content"
   ]
  },
  {
   "cell_type": "markdown",
   "metadata": {},
   "source": [
    "### Part 1"
   ]
  },
  {
   "cell_type": "code",
   "execution_count": null,
   "metadata": {},
   "outputs": [],
   "source": [
    "sum(len(set(\"\".join(group))) for group in new_content)"
   ]
  },
  {
   "cell_type": "markdown",
   "metadata": {},
   "source": [
    "### Part 2"
   ]
  },
  {
   "cell_type": "code",
   "execution_count": null,
   "metadata": {},
   "outputs": [],
   "source": [
    "sum(len(set.intersection(*[set(el) for el in group])) for group in new_content)  "
   ]
  },
  {
   "cell_type": "markdown",
   "metadata": {},
   "source": [
    "## Day 7"
   ]
  },
  {
   "cell_type": "markdown",
   "metadata": {},
   "source": [
    "### Prepare input"
   ]
  },
  {
   "cell_type": "code",
   "execution_count": null,
   "metadata": {},
   "outputs": [],
   "source": [
    "filename = \"input_day7.txt\"\n",
    "with open(filename) as f:\n",
    "    content = f.readlines()\n",
    "\n",
    "content = [x.strip() for x in content]"
   ]
  },
  {
   "cell_type": "code",
   "execution_count": null,
   "metadata": {},
   "outputs": [],
   "source": [
    "outer_colors = [\" \".join(line.split(\" \")[:2]) for line in content]\n",
    "inner_colors = [re.findall(r\"(\\d+) (\\w+ \\w+)\", line) for line in content]"
   ]
  },
  {
   "cell_type": "markdown",
   "metadata": {},
   "source": [
    "### Part 1"
   ]
  },
  {
   "cell_type": "code",
   "execution_count": null,
   "metadata": {},
   "outputs": [],
   "source": [
    "from collections import defaultdict\n",
    "\n",
    "inners_dict = defaultdict(set)\n",
    "for inners, outer in zip(inner_colors, outer_colors):\n",
    "    for inner in inners:\n",
    "        inners_dict[inner[1]].add(outer)"
   ]
  },
  {
   "cell_type": "code",
   "execution_count": null,
   "metadata": {},
   "outputs": [],
   "source": [
    "final_colors = []\n",
    "def check_color(color):\n",
    "    for parent in inners_dict[color]:\n",
    "        final_colors.append(parent)\n",
    "        check_color(parent)\n",
    "        \n",
    "check_color(\"shiny gold\")"
   ]
  },
  {
   "cell_type": "code",
   "execution_count": null,
   "metadata": {},
   "outputs": [],
   "source": [
    "len(set(final_colors))"
   ]
  },
  {
   "cell_type": "markdown",
   "metadata": {},
   "source": [
    "###  Part 2"
   ]
  },
  {
   "cell_type": "code",
   "execution_count": null,
   "metadata": {},
   "outputs": [],
   "source": [
    "def get_number_bags(color):\n",
    "    number_bags = 0\n",
    "    sub_colors = inner_colors[outer_colors.index(color)]\n",
    "    for n, col in sub_colors:\n",
    "        n = int(n)\n",
    "        number_bags += n # add those bags\n",
    "        number_bags += n * get_number_bags(col) # add all bags contained within those\n",
    "    return number_bags"
   ]
  },
  {
   "cell_type": "code",
   "execution_count": null,
   "metadata": {},
   "outputs": [],
   "source": [
    "get_number_bags(\"shiny gold\")"
   ]
  },
  {
   "cell_type": "markdown",
   "metadata": {},
   "source": [
    "## Day 8"
   ]
  },
  {
   "cell_type": "markdown",
   "metadata": {},
   "source": [
    "### Prepare input"
   ]
  },
  {
   "cell_type": "code",
   "execution_count": null,
   "metadata": {},
   "outputs": [],
   "source": [
    "filename = \"input_day8.txt\"\n",
    "with open(filename) as f:\n",
    "    content = f.readlines()\n",
    "\n",
    "content = [x.strip().split() for x in content]"
   ]
  },
  {
   "cell_type": "markdown",
   "metadata": {},
   "source": [
    "### Part 1"
   ]
  },
  {
   "cell_type": "code",
   "execution_count": null,
   "metadata": {
    "scrolled": false
   },
   "outputs": [],
   "source": [
    "import re\n",
    "\n",
    "def run_instructions(cont):\n",
    "    seen = []\n",
    "    acc = 0\n",
    "    idx = 0\n",
    "    while idx not in seen and idx < len(cont): \n",
    "        seen.append(idx)\n",
    "        op, instr = cont[idx]\n",
    "        if op == \"nop\":\n",
    "            idx += 1\n",
    "        elif op == \"acc\":\n",
    "            value = int(re.findall(r\"\\d+\", instr)[0])\n",
    "            if instr.startswith(\"-\"):\n",
    "                acc -= value\n",
    "                idx += 1\n",
    "            else:\n",
    "                acc += value\n",
    "                idx += 1\n",
    "        elif op == \"jmp\":\n",
    "            value = int(re.findall(r\"\\d+\", instr)[0])\n",
    "            if instr.startswith(\"-\"):\n",
    "                idx -= value\n",
    "            else:\n",
    "                idx += value\n",
    "    return acc, seen"
   ]
  },
  {
   "cell_type": "code",
   "execution_count": null,
   "metadata": {},
   "outputs": [],
   "source": [
    "run_instructions(content)[0]"
   ]
  },
  {
   "cell_type": "markdown",
   "metadata": {},
   "source": [
    "### Part 2"
   ]
  },
  {
   "cell_type": "code",
   "execution_count": null,
   "metadata": {},
   "outputs": [],
   "source": [
    "last_idx = len(content) - 1"
   ]
  },
  {
   "cell_type": "code",
   "execution_count": null,
   "metadata": {},
   "outputs": [],
   "source": [
    "def get_replacement(content, index):\n",
    "    new_content = content.copy()\n",
    "    op, inst = new_content[index]\n",
    "    new = \"nop\" if op == \"jmp\" else \"jmp\"\n",
    "    new_content[index] = [new, inst]\n",
    "    return new_content"
   ]
  },
  {
   "cell_type": "code",
   "execution_count": null,
   "metadata": {},
   "outputs": [],
   "source": [
    "def run_part2(indices):\n",
    "    terminated = False\n",
    "    for idx in indices: \n",
    "        new_content = get_replacement(content, idx)\n",
    "        acc, seen = run_instructions(new_content)\n",
    "        if last_idx in seen:\n",
    "            terminated = True\n",
    "            break \n",
    "    return terminated, acc\n",
    "        "
   ]
  },
  {
   "cell_type": "code",
   "execution_count": null,
   "metadata": {},
   "outputs": [],
   "source": [
    "nop_indices = [idx for idx, (op, _) in enumerate(content) if op == \"nop\"]\n",
    "jmp_indices = [idx for idx, (op, _) in enumerate(content) if op == \"jmp\"]"
   ]
  },
  {
   "cell_type": "code",
   "execution_count": null,
   "metadata": {},
   "outputs": [],
   "source": [
    "run_part2(nop_indices)"
   ]
  },
  {
   "cell_type": "code",
   "execution_count": null,
   "metadata": {},
   "outputs": [],
   "source": [
    "run_part2(jmp_indices)"
   ]
  },
  {
   "cell_type": "markdown",
   "metadata": {},
   "source": [
    "## Day 9"
   ]
  },
  {
   "cell_type": "markdown",
   "metadata": {},
   "source": [
    "### Prepare input"
   ]
  },
  {
   "cell_type": "code",
   "execution_count": null,
   "metadata": {},
   "outputs": [],
   "source": [
    "filename = \"input_day9.txt\"\n",
    "with open(filename) as f:\n",
    "    content = f.readlines()\n",
    "\n",
    "content = [int(x.strip()) for x in content]"
   ]
  },
  {
   "cell_type": "markdown",
   "metadata": {},
   "source": [
    "### Part 1"
   ]
  },
  {
   "cell_type": "code",
   "execution_count": null,
   "metadata": {},
   "outputs": [],
   "source": [
    "def get_sum(nb, nb_list):\n",
    "    sorted_list = sorted(nb_list)\n",
    "    idx1 = 0\n",
    "    idx2 = len(sorted_list) - 1 \n",
    "    while idx2>idx1:\n",
    "        nb1 = sorted_list[idx1]\n",
    "        nb2 = sorted_list[idx2]\n",
    "        if nb1 + nb2 == nb:\n",
    "            return True\n",
    "        if nb1 + nb2 < nb:\n",
    "            idx1 += 1\n",
    "        else:\n",
    "            idx2 -= 1\n",
    "    return False        \n",
    "    "
   ]
  },
  {
   "cell_type": "code",
   "execution_count": null,
   "metadata": {},
   "outputs": [],
   "source": [
    "for idx, el in enumerate(content[25:]):\n",
    "    preamble = content[idx:25+idx]\n",
    "    if not get_sum(el, preamble):\n",
    "        print(el)\n",
    "        break        "
   ]
  },
  {
   "cell_type": "markdown",
   "metadata": {},
   "source": [
    "### Part 2"
   ]
  },
  {
   "cell_type": "code",
   "execution_count": null,
   "metadata": {},
   "outputs": [],
   "source": [
    "invalid = 393911906\n",
    "index = content.index(invalid)"
   ]
  },
  {
   "cell_type": "code",
   "execution_count": null,
   "metadata": {},
   "outputs": [],
   "source": [
    "def get_subset_sum(inv_nb, nb_list):\n",
    "    for i in range(0, len(nb_list)-2):\n",
    "        for j in range(1, len(nb_list)-1):\n",
    "            subset = nb_list[i:j]\n",
    "            tot = sum(subset)\n",
    "            if tot == invalid:\n",
    "                return min(subset) + max(subset)\n",
    "        "
   ]
  },
  {
   "cell_type": "code",
   "execution_count": null,
   "metadata": {},
   "outputs": [],
   "source": [
    "get_subset_sum(invalid, content[:index])"
   ]
  },
  {
   "cell_type": "markdown",
   "metadata": {},
   "source": [
    "## Day 10"
   ]
  },
  {
   "cell_type": "markdown",
   "metadata": {},
   "source": [
    "### Prepare input"
   ]
  },
  {
   "cell_type": "code",
   "execution_count": null,
   "metadata": {},
   "outputs": [],
   "source": [
    "filename = \"input_day10.txt\"\n",
    "with open(filename) as f:\n",
    "    content = f.readlines()\n",
    "\n",
    "content = [int(x.strip()) for x in content]"
   ]
  },
  {
   "cell_type": "markdown",
   "metadata": {},
   "source": [
    "### Part 1"
   ]
  },
  {
   "cell_type": "code",
   "execution_count": null,
   "metadata": {},
   "outputs": [],
   "source": [
    "content.sort()"
   ]
  },
  {
   "cell_type": "code",
   "execution_count": null,
   "metadata": {},
   "outputs": [],
   "source": [
    "built_in = max(content) + 3\n",
    "\n",
    "content.append(built_in)"
   ]
  },
  {
   "cell_type": "code",
   "execution_count": null,
   "metadata": {},
   "outputs": [],
   "source": [
    "cur_joltage = 0\n",
    "\n",
    "nb_1 = 0\n",
    "nb_2 = 0\n",
    "nb_3 = 0\n",
    "\n",
    "for joltage in content:\n",
    "    diff = joltage - cur_joltage\n",
    "    if diff == 1:\n",
    "        nb_1 += 1\n",
    "    elif diff == 2:\n",
    "        nb_2 += 1\n",
    "    elif diff == 3:\n",
    "        nb_3 += 1\n",
    "    else:\n",
    "        print(\"diff larger than 3\")\n",
    "        break\n",
    "    cur_joltage = joltage\n",
    "\n",
    "nb_1 * nb_3"
   ]
  },
  {
   "cell_type": "markdown",
   "metadata": {},
   "source": [
    "### Part 2"
   ]
  },
  {
   "cell_type": "code",
   "execution_count": null,
   "metadata": {},
   "outputs": [],
   "source": [
    "from collections import defaultdict\n",
    "\n",
    "# dict {output: nb_arrangements}\n",
    "arrangements = defaultdict(int)\n",
    "arrangements[0] = 1\n",
    "\n",
    "for joltage in content:\n",
    "    arrangements[joltage] = arrangements[joltage - 1] + arrangements[joltage - 2] + arrangements[joltage - 3]\n",
    "        \n",
    "arrangements[built_in]"
   ]
  },
  {
   "cell_type": "markdown",
   "metadata": {},
   "source": [
    "## Day 10"
   ]
  },
  {
   "cell_type": "markdown",
   "metadata": {},
   "source": [
    "### Prepare input"
   ]
  },
  {
   "cell_type": "code",
   "execution_count": null,
   "metadata": {},
   "outputs": [],
   "source": [
    "filename = \"input_day11.txt\"\n",
    "\n",
    "with open(filename) as f:\n",
    "    content = f.readlines()\n",
    "\n",
    "content = [x.strip() for x in content]"
   ]
  },
  {
   "cell_type": "markdown",
   "metadata": {},
   "source": [
    "### Part 1"
   ]
  },
  {
   "cell_type": "code",
   "execution_count": null,
   "metadata": {},
   "outputs": [],
   "source": [
    "def get_adjacent(seating, row, col, visible=False):\n",
    "    \n",
    "    def get_adj(r, c, vert, horiz):\n",
    "        idx = r + vert\n",
    "        jdx = c + horiz\n",
    "\n",
    "        if 0 <= idx < len(seating) and 0 <= jdx < len(seating[idx]):\n",
    "            seat = seating[idx][jdx]\n",
    "        else:\n",
    "            return \".\"\n",
    "    \n",
    "        if visible and seat == \".\":\n",
    "            seat = get_adj(idx, jdx, vert, horiz)\n",
    "        \n",
    "        return seat\n",
    "    \n",
    "    return [\n",
    "        get_adj(row, col, -1, -1),\n",
    "        get_adj(row, col, -1, 0),\n",
    "        get_adj(row, col, -1, 1),\n",
    "        get_adj(row, col, 0, -1),\n",
    "        get_adj(row, col, 0, 1),\n",
    "        get_adj(row, col, 1, -1),\n",
    "        get_adj(row, col, 1, 0),\n",
    "        get_adj(row, col, 1, 1),      \n",
    "    ]"
   ]
  },
  {
   "cell_type": "code",
   "execution_count": null,
   "metadata": {},
   "outputs": [],
   "source": [
    "def change_seat_state(seating, row, col, visible=False):\n",
    "    \n",
    "    occupied = 5 if visible else 4\n",
    "    \n",
    "    adjacent = get_adjacent(seating, row, col, visible)\n",
    "    \n",
    "    if seating[row][col] == \"L\" and all(s in {\"L\", \".\"} for s in adjacent):\n",
    "            return \"#\"\n",
    "    if seating[row][col] == \"#\" and adjacent.count(\"#\") >= occupied:\n",
    "            return \"L\"\n",
    "    \n",
    "    return seating[row][col]"
   ]
  },
  {
   "cell_type": "code",
   "execution_count": null,
   "metadata": {},
   "outputs": [],
   "source": [
    "def change_layout(seating, visible=False):\n",
    "    new_seating = [[]]\n",
    "    for i in range(len(seating)):\n",
    "        for j in range(len(seating[0])):\n",
    "            new_seating[i].append(change_seat_state(seating, i, j, visible))\n",
    "        if i != len(seating)-1:\n",
    "            new_seating.append([])\n",
    "                        \n",
    "    return new_seating"
   ]
  },
  {
   "cell_type": "code",
   "execution_count": null,
   "metadata": {},
   "outputs": [],
   "source": [
    "def do_changes(content, visible=False):\n",
    "    new_content = change_layout(content, visible)\n",
    "    while new_content != content:\n",
    "        content = new_content.copy()\n",
    "        new_content = change_layout(content, visible)\n",
    "        \n",
    "    return sum(sub.count(\"#\") for sub in new_content)"
   ]
  },
  {
   "cell_type": "code",
   "execution_count": null,
   "metadata": {},
   "outputs": [],
   "source": [
    "do_changes(content)"
   ]
  },
  {
   "cell_type": "markdown",
   "metadata": {},
   "source": [
    "### Part 2"
   ]
  },
  {
   "cell_type": "code",
   "execution_count": null,
   "metadata": {},
   "outputs": [],
   "source": [
    "do_changes(content, True)"
   ]
  },
  {
   "cell_type": "markdown",
   "metadata": {},
   "source": [
    "## Day 12"
   ]
  },
  {
   "cell_type": "markdown",
   "metadata": {},
   "source": [
    "### Prepare input"
   ]
  },
  {
   "cell_type": "code",
   "execution_count": null,
   "metadata": {},
   "outputs": [],
   "source": [
    "filename = \"input_day12.txt\"\n",
    "\n",
    "with open(filename) as f:\n",
    "    content = f.readlines()\n",
    "\n",
    "content = [x.strip() for x in content]"
   ]
  },
  {
   "cell_type": "code",
   "execution_count": null,
   "metadata": {},
   "outputs": [],
   "source": [
    "import re\n",
    "\n",
    "content = [re.search(r\"^(\\w)(\\d+)$\",x).groups() for x in content]"
   ]
  },
  {
   "cell_type": "code",
   "execution_count": null,
   "metadata": {},
   "outputs": [],
   "source": [
    "content = [(x, int(y)) for x,y in content]"
   ]
  },
  {
   "cell_type": "markdown",
   "metadata": {},
   "source": [
    "### Part 1"
   ]
  },
  {
   "cell_type": "code",
   "execution_count": null,
   "metadata": {},
   "outputs": [],
   "source": [
    "DIRECTIONS = [\"N\", \"E\", \"S\", \"W\"]\n",
    "\n",
    "def change_dir(cur_dir, action, angle):\n",
    "    \n",
    "    n_change = angle // 90 if action == \"R\" else (-angle // 90)\n",
    "    fidx = (DIRECTIONS.index(cur_dir) + n_change) % len(DIRECTIONS)\n",
    "    \n",
    "    return DIRECTIONS[fidx]"
   ]
  },
  {
   "cell_type": "code",
   "execution_count": null,
   "metadata": {},
   "outputs": [],
   "source": [
    "tot_east = 0\n",
    "tot_north = 0 \n",
    "\n",
    "cur_dir = \"E\"\n",
    "for action, units in content:\n",
    "    if action == \"F\":\n",
    "        action = cur_dir\n",
    "        \n",
    "    if action in {\"L\", \"R\"}:\n",
    "        cur_dir = change_dir(cur_dir, action, units)\n",
    "    elif action == \"N\":\n",
    "        tot_north += units\n",
    "    elif action == \"S\":\n",
    "        tot_north -= units\n",
    "    elif action == \"E\":\n",
    "        tot_east += units\n",
    "    elif action == \"W\":\n",
    "        tot_east -= units\n",
    "        \n",
    "        \n",
    "abs(tot_east) + abs(tot_north)"
   ]
  },
  {
   "cell_type": "markdown",
   "metadata": {},
   "source": [
    "### Part 2"
   ]
  },
  {
   "cell_type": "code",
   "execution_count": null,
   "metadata": {},
   "outputs": [],
   "source": [
    "def change_two_dir(cur_e, cur_n, action, angle):\n",
    "    \n",
    "    def turn_R_90(cur_x, cur_y):\n",
    "        return cur_y, -cur_x       \n",
    "    \n",
    "    n_change = angle // 90 if action == \"R\" else (-angle % 360) // 90\n",
    "    \n",
    "    for i in range(n_change):\n",
    "        cur_e, cur_n = turn_R_90(cur_e, cur_n)\n",
    "        \n",
    "    return cur_e, cur_n"
   ]
  },
  {
   "cell_type": "code",
   "execution_count": null,
   "metadata": {},
   "outputs": [],
   "source": [
    "way_e = 10\n",
    "way_n = 1\n",
    "\n",
    "tot_east = 0\n",
    "tot_north = 0\n",
    "\n",
    "for action, units in content:\n",
    "    if action == \"F\":\n",
    "        tot_east += way_e * units\n",
    "        tot_north += way_n * units\n",
    "    \n",
    "    elif action in {\"L\",\"R\"}:\n",
    "        way_e, way_n = change_two_dir(way_e, way_n, action, units)\n",
    "\n",
    "    elif action == \"N\":\n",
    "        way_n += units\n",
    "    elif action == \"S\":\n",
    "        way_n -= units\n",
    "    elif action == \"E\":\n",
    "        way_e += units\n",
    "    elif action == \"W\":\n",
    "        way_e -= units\n",
    "        \n",
    "# print(tot_east, tot_north, way_e, way_n)\n",
    "abs(tot_east) + abs(tot_north)"
   ]
  },
  {
   "cell_type": "markdown",
   "metadata": {},
   "source": [
    "## Day 13"
   ]
  },
  {
   "cell_type": "markdown",
   "metadata": {},
   "source": [
    "### Prepare input"
   ]
  },
  {
   "cell_type": "code",
   "execution_count": null,
   "metadata": {},
   "outputs": [],
   "source": [
    "filename = \"input_day13.txt\"\n",
    "\n",
    "with open(filename) as f:\n",
    "    content = f.readlines()\n",
    "\n",
    "content = [x.strip() for x in content]"
   ]
  },
  {
   "cell_type": "code",
   "execution_count": null,
   "metadata": {},
   "outputs": [],
   "source": [
    "earliest = int(content[0])\n",
    "bus_ids = [int(n) for n in content[1].split(\",\") if n != \"x\"]"
   ]
  },
  {
   "cell_type": "markdown",
   "metadata": {},
   "source": [
    "### Part 1"
   ]
  },
  {
   "cell_type": "code",
   "execution_count": null,
   "metadata": {},
   "outputs": [],
   "source": [
    "end, bus_id = min((earliest + bid - earliest%bid, bid) for bid in bus_ids)\n",
    "(end-earliest) * bus_id"
   ]
  },
  {
   "cell_type": "markdown",
   "metadata": {},
   "source": [
    "### Part 2"
   ]
  },
  {
   "cell_type": "code",
   "execution_count": null,
   "metadata": {},
   "outputs": [],
   "source": [
    "inv_tstamps = {int(bus): -i % int(bus) for i, bus in enumerate(content[1].split(\",\")) if bus != \"x\"}\n",
    "inv_tstamps"
   ]
  },
  {
   "cell_type": "code",
   "execution_count": null,
   "metadata": {},
   "outputs": [],
   "source": [
    "sorted_bids = list(reversed(sorted(inv_tstamps)))\n",
    "sorted_bids"
   ]
  },
  {
   "cell_type": "code",
   "execution_count": null,
   "metadata": {},
   "outputs": [],
   "source": [
    "cur_bid = sorted_bids[0]\n",
    "t_stamp = inv_tstamps[cur_bid]\n",
    "\n",
    "for bid in sorted_bids[1:]:\n",
    "    while t_stamp % bid != inv_tstamps[bid]:\n",
    "        t_stamp += cur_bid\n",
    "    cur_bid *= bid\n",
    "    \n",
    "t_stamp"
   ]
  },
  {
   "cell_type": "markdown",
   "metadata": {},
   "source": [
    "## Day 14"
   ]
  },
  {
   "cell_type": "markdown",
   "metadata": {},
   "source": [
    "### Prepare input"
   ]
  },
  {
   "cell_type": "code",
   "execution_count": null,
   "metadata": {},
   "outputs": [],
   "source": [
    "filename = \"input_day14.txt\"\n",
    "\n",
    "with open(filename) as f:\n",
    "    content = f.readlines()\n",
    "\n",
    "content = [x.strip() for x in content]"
   ]
  },
  {
   "cell_type": "code",
   "execution_count": null,
   "metadata": {},
   "outputs": [],
   "source": [
    "content = [x.split(\" = \") for x in content]"
   ]
  },
  {
   "cell_type": "code",
   "execution_count": null,
   "metadata": {},
   "outputs": [],
   "source": [
    "import re\n",
    "\n",
    "new_content = []\n",
    "for line in content:\n",
    "    if line[0] == \"mask\":\n",
    "        new_content.append(line)\n",
    "    else:\n",
    "        mem = int(re.search(\"^mem\\[(\\d+)\\]$\", line[0]).groups()[0])\n",
    "        val = int(line[1])\n",
    "        new_content.append([mem, val])\n",
    "        "
   ]
  },
  {
   "cell_type": "markdown",
   "metadata": {},
   "source": [
    "### Part 1"
   ]
  },
  {
   "cell_type": "code",
   "execution_count": null,
   "metadata": {},
   "outputs": [],
   "source": [
    "def convert_mask(mask, number):\n",
    "    bin_nb = list(bin(number)[2:].zfill(36))\n",
    "\n",
    "    for idx, mc in enumerate(mask):\n",
    "        if mc != \"X\":\n",
    "            bin_nb[idx] = mc\n",
    "    \n",
    "    bin_nb = \"\".join(bin_nb)\n",
    "    return int(bin_nb, 2)"
   ]
  },
  {
   "cell_type": "code",
   "execution_count": null,
   "metadata": {},
   "outputs": [],
   "source": [
    "from collections import defaultdict\n",
    "memory = defaultdict()\n",
    "\n",
    "cur_mask = new_content[0][1]\n",
    "for line in new_content[1:]:\n",
    "    if line[0] == \"mask\":\n",
    "        cur_mask = line[1]\n",
    "    else:\n",
    "        memory[line[0]] = convert_mask(cur_mask, line[1])"
   ]
  },
  {
   "cell_type": "code",
   "execution_count": null,
   "metadata": {},
   "outputs": [],
   "source": [
    "sum(memory.values())"
   ]
  },
  {
   "cell_type": "markdown",
   "metadata": {},
   "source": [
    "### Part 2"
   ]
  },
  {
   "cell_type": "code",
   "execution_count": null,
   "metadata": {},
   "outputs": [],
   "source": [
    "import itertools\n",
    "\n",
    "def convert_mask_2(mask, number):\n",
    "    bin_nb = list(bin(number)[2:].zfill(36))\n",
    "    \n",
    "    for idx, mc in enumerate(mask):\n",
    "        if mc != \"0\":\n",
    "            bin_nb[idx] = mc\n",
    "    \n",
    "    posX = [idx for idx, n in enumerate(bin_nb) if n == \"X\"]\n",
    "    combinations = list(itertools.product([0, 1], repeat=len(posX)))\n",
    "    \n",
    "    all_addresses = []\n",
    "    for comb in combinations:\n",
    "        new_add = bin_nb.copy()\n",
    "        for val, pos in zip(comb, posX):\n",
    "            new_add[pos] = str(val)\n",
    "        \n",
    "        all_addresses.append(int(\"\".join(new_add),2))\n",
    "    \n",
    "    return all_addresses"
   ]
  },
  {
   "cell_type": "code",
   "execution_count": null,
   "metadata": {},
   "outputs": [],
   "source": [
    "memory = defaultdict()\n",
    "\n",
    "cur_mask = new_content[0][1]\n",
    "for line in new_content[1:]:\n",
    "    if line[0] == \"mask\":\n",
    "        cur_mask = line[1]\n",
    "    else:\n",
    "        addresses = convert_mask_2(cur_mask, line[0])\n",
    "        for address in addresses:\n",
    "            memory[address] = line[1]\n"
   ]
  },
  {
   "cell_type": "code",
   "execution_count": null,
   "metadata": {},
   "outputs": [],
   "source": [
    "sum(memory.values())"
   ]
  },
  {
   "cell_type": "markdown",
   "metadata": {},
   "source": [
    "## Day 15"
   ]
  },
  {
   "cell_type": "code",
   "execution_count": null,
   "metadata": {},
   "outputs": [],
   "source": [
    "from tqdm import tqdm\n",
    "numbers = [19,0,5,1,10,13]\n",
    "# numbers = [0,3,6]\n",
    "\n",
    "last_pos = {val: idx for idx, val in enumerate(numbers)}\n",
    "\n",
    "for turn in tqdm(range(len(numbers),30000000)):\n",
    "    cur = numbers[-1]\n",
    "    cur_pos = len(numbers) - 1 \n",
    "    if cur in last_pos:\n",
    "        diff = cur_pos - last_pos[cur]\n",
    "        numbers.append(diff)\n",
    "    else:\n",
    "        numbers.append(0)\n",
    "    last_pos[cur] = cur_pos\n"
   ]
  },
  {
   "cell_type": "code",
   "execution_count": null,
   "metadata": {},
   "outputs": [],
   "source": [
    "numbers[-1]"
   ]
  },
  {
   "cell_type": "markdown",
   "metadata": {},
   "source": [
    "## Day 16"
   ]
  },
  {
   "cell_type": "markdown",
   "metadata": {},
   "source": [
    "### Prepare input"
   ]
  },
  {
   "cell_type": "code",
   "execution_count": null,
   "metadata": {},
   "outputs": [],
   "source": [
    "filename = \"input_day16.txt\"\n",
    "\n",
    "with open(filename) as f:\n",
    "    content = f.readlines()\n",
    "\n",
    "content = [x.strip() for x in content]"
   ]
  },
  {
   "cell_type": "code",
   "execution_count": null,
   "metadata": {},
   "outputs": [],
   "source": [
    "import re\n",
    "\n",
    "info_ranges = {}\n",
    "for line in content:\n",
    "    if not line:\n",
    "        empty = content.index(line)\n",
    "        break\n",
    "    txt, stuff = line.split(\":\")\n",
    "    r11, r12, r21, r22 = re.search(r\"^(\\d+)-(\\d+) or (\\d+)-(\\d+)$\", stuff.strip()).groups()\n",
    "    ranges = list(range(int(r11), int(r12) + 1)) + list(range(int(r21), int(r22) + 1))\n",
    "    \n",
    "    info_ranges[txt] = ranges"
   ]
  },
  {
   "cell_type": "code",
   "execution_count": null,
   "metadata": {},
   "outputs": [],
   "source": [
    "myticket = [int(x) for x in content[empty+2].split(\",\")]"
   ]
  },
  {
   "cell_type": "code",
   "execution_count": null,
   "metadata": {},
   "outputs": [],
   "source": [
    "nearby_tickets = []\n",
    "for line in content[empty+5:]:\n",
    "    nearby_tickets.append([int(x) for x in line.split(\",\")])\n"
   ]
  },
  {
   "cell_type": "markdown",
   "metadata": {},
   "source": [
    "### Part 1"
   ]
  },
  {
   "cell_type": "code",
   "execution_count": null,
   "metadata": {},
   "outputs": [],
   "source": [
    "def check_valid(number):\n",
    "    return any(number in values for values in info_ranges.values())"
   ]
  },
  {
   "cell_type": "code",
   "execution_count": null,
   "metadata": {},
   "outputs": [],
   "source": [
    "invalid = []\n",
    "valid_tickets = nearby_tickets.copy()\n",
    "for tick in nearby_tickets:\n",
    "    inv = [nb for nb in tick if not check_valid(nb)]\n",
    "    if inv:\n",
    "        valid_tickets.remove(tick)\n",
    "        invalid.extend(inv)"
   ]
  },
  {
   "cell_type": "code",
   "execution_count": null,
   "metadata": {},
   "outputs": [],
   "source": [
    "sum(invalid)"
   ]
  },
  {
   "cell_type": "markdown",
   "metadata": {},
   "source": [
    "### Part 2"
   ]
  },
  {
   "cell_type": "code",
   "execution_count": null,
   "metadata": {},
   "outputs": [],
   "source": [
    "valid_tickets.append(myticket)"
   ]
  },
  {
   "cell_type": "code",
   "execution_count": null,
   "metadata": {},
   "outputs": [],
   "source": [
    "import numpy as np\n",
    "valid_tickets = np.array(valid_tickets)"
   ]
  },
  {
   "cell_type": "code",
   "execution_count": null,
   "metadata": {},
   "outputs": [],
   "source": [
    "n_cols = valid_tickets.shape[1]"
   ]
  },
  {
   "cell_type": "code",
   "execution_count": null,
   "metadata": {},
   "outputs": [],
   "source": [
    "order = {key: [] for key in info_ranges}\n",
    "\n",
    "for cid in range(n_cols):\n",
    "    col = valid_tickets[:, cid]\n",
    "    for key in order:\n",
    "        if all(c in info_ranges[key] for c in col):\n",
    "            order[key].append(cid)"
   ]
  },
  {
   "cell_type": "code",
   "execution_count": null,
   "metadata": {},
   "outputs": [],
   "source": [
    "sorted_order = sorted(order.items(), key=lambda item: len(item[1]))\n",
    "sorted_order = dict(sorted_order)"
   ]
  },
  {
   "cell_type": "code",
   "execution_count": null,
   "metadata": {},
   "outputs": [],
   "source": [
    "for key, val in sorted_order.items():\n",
    "    if len(val) == 1:\n",
    "        p = val[0]\n",
    "        for other_key, other_val in sorted_order.items():\n",
    "            if key != other_key and p in other_val:\n",
    "                order[other_key].remove(p)"
   ]
  },
  {
   "cell_type": "code",
   "execution_count": null,
   "metadata": {},
   "outputs": [],
   "source": [
    "my_deps = [myticket[val[0]] for key, val in order.items() if \"departure\" in key]"
   ]
  },
  {
   "cell_type": "code",
   "execution_count": null,
   "metadata": {},
   "outputs": [],
   "source": [
    "import math\n",
    "math.prod(my_deps)"
   ]
  },
  {
   "cell_type": "markdown",
   "metadata": {},
   "source": [
    "## Day 17"
   ]
  },
  {
   "cell_type": "markdown",
   "metadata": {},
   "source": [
    "### Prepare input"
   ]
  },
  {
   "cell_type": "code",
   "execution_count": null,
   "metadata": {},
   "outputs": [],
   "source": [
    "filename = \"input_day17.txt\"\n",
    "\n",
    "with open(filename) as f:\n",
    "    content = f.readlines()\n",
    "\n",
    "content = [x.strip() for x in content]"
   ]
  },
  {
   "cell_type": "code",
   "execution_count": null,
   "metadata": {},
   "outputs": [],
   "source": [
    "from collections import defaultdict\n",
    "\n",
    "new_content=defaultdict(lambda: \".\")\n",
    "\n",
    "for idx, line in enumerate(content):\n",
    "    for jdx, char in enumerate(line):\n",
    "        new_content[(idx, jdx, 0)] = char"
   ]
  },
  {
   "cell_type": "markdown",
   "metadata": {},
   "source": [
    "### Part 1"
   ]
  },
  {
   "cell_type": "code",
   "execution_count": null,
   "metadata": {},
   "outputs": [],
   "source": [
    "def get_neighbours(cur_config, coord):\n",
    "    \n",
    "    neighbours = {}\n",
    "    \n",
    "    for x_off in (-1, 0, 1):\n",
    "        for y_off in (-1, 0, 1):\n",
    "            for z_off in (-1, 0, 1):\n",
    "                x = coord[0] + x_off\n",
    "                y = coord[1] + y_off\n",
    "                z = coord[2] + z_off\n",
    "                \n",
    "                neighbours[(x,y,z)] = cur_config[(x,y,z)]\n",
    "\n",
    "    neighbours.pop(coord)\n",
    "                \n",
    "    return neighbours"
   ]
  },
  {
   "cell_type": "code",
   "execution_count": null,
   "metadata": {},
   "outputs": [],
   "source": [
    "from collections import Counter\n",
    "\n",
    "def change_cube(cur_config, coord, part2=False):\n",
    "    \n",
    "    neighbours = get_neighbours(cur_config, coord) if not part2 else get_neighbours_4d(cur_config, coord)\n",
    "        \n",
    "    n_active = Counter(neighbours.values())[\"#\"]\n",
    "    \n",
    "    if (cur_config[coord] == \"#\" and n_active in {2,3}) or (cur_config[coord] == \".\" and n_active == 3):\n",
    "            return \"#\"\n",
    "    \n",
    "    return \".\"  \n",
    "    "
   ]
  },
  {
   "cell_type": "code",
   "execution_count": null,
   "metadata": {},
   "outputs": [],
   "source": [
    "def change_cube_config(cur_config, part2=False):\n",
    "    new_config = cur_config.copy()\n",
    "    \n",
    "    cur_coords = list(cur_config.keys())\n",
    "    for coord in cur_coords:\n",
    "        new_config[coord] = change_cube(cur_config, coord, part2)\n",
    "    \n",
    "    # add previously missing neighbours' keys\n",
    "    for key in cur_config:\n",
    "        if key not in new_config.keys():\n",
    "            new_config[key] = cur_config[key]\n",
    "            \n",
    "    return new_config"
   ]
  },
  {
   "cell_type": "code",
   "execution_count": null,
   "metadata": {},
   "outputs": [],
   "source": [
    "def iterate_changes(config, n_it, part2=False):\n",
    "    \n",
    "    #initialize neighbours for first iteration\n",
    "    cur_coords = list(config.keys())\n",
    "    for coord in cur_coords:\n",
    "        if not part2:\n",
    "            _ = get_neighbours(config, coord)\n",
    "        else:\n",
    "            _ = get_neighbours_4d(config, coord)\n",
    "    \n",
    "    \n",
    "    for _ in range(n_it):\n",
    "        config = change_cube_config(config, part2)\n",
    "    \n",
    "    return Counter(config.values())[\"#\"]"
   ]
  },
  {
   "cell_type": "code",
   "execution_count": null,
   "metadata": {},
   "outputs": [],
   "source": [
    "try_content = new_content.copy()\n",
    "iterate_changes(try_content, 6)"
   ]
  },
  {
   "cell_type": "markdown",
   "metadata": {},
   "source": [
    "### Part 2"
   ]
  },
  {
   "cell_type": "code",
   "execution_count": null,
   "metadata": {},
   "outputs": [],
   "source": [
    "def get_neighbours(cur_config, coord):\n",
    "    \n",
    "    neighbours = {}\n",
    "    \n",
    "    for x_off in (-1, 0, 1):\n",
    "        for y_off in (-1, 0, 1):\n",
    "            for z_off in (-1, 0, 1):\n",
    "                for w_off in (-1, 0, 1):\n",
    "                \n",
    "                    x = coord[0] + x_off\n",
    "                    y = coord[1] + y_off\n",
    "                    z = coord[2] + z_off\n",
    "                    w = coord[3] + w_off\n",
    "                \n",
    "                    neighbours[(x,y,z,w)] = cur_config[(x,y,z,w)]\n",
    "\n",
    "    neighbours.pop(coord)\n",
    "                \n",
    "    return neighbours"
   ]
  },
  {
   "cell_type": "code",
   "execution_count": null,
   "metadata": {},
   "outputs": [],
   "source": [
    "from collections import defaultdict\n",
    "\n",
    "new_content=defaultdict(lambda: \".\")\n",
    "\n",
    "for idx, line in enumerate(content):\n",
    "    for jdx, char in enumerate(line):\n",
    "        new_content[(idx, jdx, 0, 0)] = char"
   ]
  },
  {
   "cell_type": "code",
   "execution_count": null,
   "metadata": {},
   "outputs": [],
   "source": [
    "try_content = new_content.copy()\n",
    "iterate_changes(try_content, 6, True)"
   ]
  },
  {
   "cell_type": "markdown",
   "metadata": {},
   "source": [
    "## Day 18"
   ]
  },
  {
   "cell_type": "markdown",
   "metadata": {},
   "source": [
    "### Prepare content"
   ]
  },
  {
   "cell_type": "code",
   "execution_count": null,
   "metadata": {},
   "outputs": [],
   "source": [
    "filename = \"input_day18.txt\"\n",
    "\n",
    "with open(filename) as f:\n",
    "    content = f.readlines()\n",
    "\n",
    "content = [x.strip() for x in content]"
   ]
  },
  {
   "cell_type": "code",
   "execution_count": null,
   "metadata": {},
   "outputs": [],
   "source": [
    "new_content = []\n",
    "for line in content:\n",
    "    line = line.replace('(', ' ( ').replace(')', ' ) ').split()\n",
    "    new_content.append(line)"
   ]
  },
  {
   "cell_type": "markdown",
   "metadata": {},
   "source": [
    "### Part 1"
   ]
  },
  {
   "cell_type": "code",
   "execution_count": null,
   "metadata": {},
   "outputs": [],
   "source": [
    "def get_total(line):\n",
    "    total = 0\n",
    "    idx = 0\n",
    "    cur_op = \"add\"\n",
    "    \n",
    "    while idx < len(line):\n",
    "        el = line[idx]\n",
    "        if el == \"(\":\n",
    "            subtot, jdx = get_total(line[idx+1:])\n",
    "            \n",
    "            total = total + subtot if cur_op == \"add\" else total * subtot \n",
    "            idx += jdx\n",
    "            \n",
    "        elif el == \")\":\n",
    "            return total, idx+1\n",
    "        \n",
    "        elif el == \"+\":\n",
    "            cur_op = \"add\"\n",
    "            \n",
    "        elif el == \"*\":\n",
    "            cur_op = \"mult\"\n",
    "\n",
    "        else:\n",
    "            total = total + int(el) if cur_op == \"add\" else total * int(el)\n",
    "            \n",
    "        idx += 1      \n",
    "            \n",
    "    return total, idx+1"
   ]
  },
  {
   "cell_type": "code",
   "execution_count": null,
   "metadata": {},
   "outputs": [],
   "source": [
    "sum(get_total(line)[0] for line in new_content)"
   ]
  },
  {
   "cell_type": "markdown",
   "metadata": {},
   "source": [
    "### Part 2"
   ]
  },
  {
   "cell_type": "code",
   "execution_count": null,
   "metadata": {},
   "outputs": [],
   "source": [
    "def transform_line(line):\n",
    "    \n",
    "    new_line = []\n",
    "    sub_line = []\n",
    "    \n",
    "    for el in line:\n",
    "        \n",
    "        if el == \"(\":\n",
    "            sub_line.append(el)\n",
    "          \n",
    "        elif el == \")\":\n",
    "            while len(sub_line) > 0 and sub_line[-1] != \"(\":\n",
    "                last = sub_line.pop()\n",
    "                new_line.append(last)\n",
    "                \n",
    "            if len(sub_line) > 0 and sub_line[-1] == \"(\":\n",
    "                sub_line.pop()         \n",
    "                \n",
    "        elif el in {\"+\",\"*\"}:\n",
    "            while len(sub_line) > 0 and sub_line[-1] == \"+\":\n",
    "                last = sub_line.pop()\n",
    "                new_line.append(last)\n",
    "            \n",
    "            sub_line.append(el)\n",
    "    \n",
    "        else:\n",
    "            new_line.append(el)\n",
    "    \n",
    "    new_line += sub_line[::-1]\n",
    "                            \n",
    "    return new_line"
   ]
  },
  {
   "cell_type": "code",
   "execution_count": null,
   "metadata": {},
   "outputs": [],
   "source": [
    "def get_total_2(line):\n",
    "    cur_operation = []\n",
    "    \n",
    "    for el in line:\n",
    "        if el not in {\"+\", \"*\"}:\n",
    "            cur_operation.append(el)\n",
    "        else:\n",
    "            first = cur_operation.pop()\n",
    "            second = cur_operation.pop()\n",
    "            if el == \"+\":\n",
    "                cur_operation.append(int(first) + int(second))\n",
    "            elif el == \"*\":\n",
    "                cur_operation.append(int(first) * int(second))\n",
    "    \n",
    "    return cur_operation[0]"
   ]
  },
  {
   "cell_type": "code",
   "execution_count": null,
   "metadata": {},
   "outputs": [],
   "source": [
    "sum(get_total_2(transform_line(line)) for line in new_content)"
   ]
  },
  {
   "cell_type": "markdown",
   "metadata": {},
   "source": [
    "## Day 19"
   ]
  },
  {
   "cell_type": "markdown",
   "metadata": {},
   "source": [
    "### Prepare input"
   ]
  },
  {
   "cell_type": "code",
   "execution_count": null,
   "metadata": {},
   "outputs": [],
   "source": [
    "filename = \"input_day19.txt\"\n",
    "\n",
    "with open(filename) as f:\n",
    "    content = f.readlines()\n",
    "\n",
    "content = [x.strip() for x in content]"
   ]
  },
  {
   "cell_type": "code",
   "execution_count": null,
   "metadata": {},
   "outputs": [],
   "source": [
    "rules = {}\n",
    "for line in content:\n",
    "    if not line:\n",
    "        idx = content.index(line)\n",
    "        messages = content[idx+1:]\n",
    "        break\n",
    "    key, val = line.split(\": \")\n",
    "    val = val.split(\" | \")\n",
    "    rules[key] = val"
   ]
  },
  {
   "cell_type": "markdown",
   "metadata": {},
   "source": [
    "### Part 1"
   ]
  },
  {
   "cell_type": "code",
   "execution_count": null,
   "metadata": {},
   "outputs": [],
   "source": [
    "a = [key for key, val in rules.items() if val == ['\"a\"']][0]\n",
    "b = [key for key, val in rules.items() if val == ['\"b\"']][0]"
   ]
  },
  {
   "cell_type": "code",
   "execution_count": null,
   "metadata": {},
   "outputs": [],
   "source": [
    "seen_rules = {\n",
    "    a: [\"a\"],\n",
    "    b: [\"b\"],\n",
    "}"
   ]
  },
  {
   "cell_type": "code",
   "execution_count": null,
   "metadata": {
    "scrolled": true
   },
   "outputs": [],
   "source": [
    "import re\n",
    "from itertools import product\n",
    "\n",
    "while len(seen_rules) < len(rules):\n",
    "    cur_seen = {}\n",
    "    for cur_rule, cur_option in seen_rules.items():\n",
    "                \n",
    "        for rule_nb, rule in rules.items():\n",
    "            new_rule = []\n",
    "            for option in rule:\n",
    "                list_option = option.split()\n",
    "                if cur_rule in list_option:\n",
    "                    new_option = []\n",
    "                    for item in list_option:\n",
    "                        if item == cur_rule:\n",
    "                            new_option.append(cur_option)\n",
    "                        else:\n",
    "                            new_option.append([item])\n",
    "                            \n",
    "                    new_option = list(product(*new_option))\n",
    "                    new_option = [\" \".join(opt) for opt in new_option]\n",
    "                    \n",
    "                    new_rule.extend(new_option)\n",
    "                else:\n",
    "                    new_rule.append(option)\n",
    "               \n",
    "            rules[rule_nb] = new_rule\n",
    "                \n",
    "            if all(not re.search(\"\\d+\", r) for r in new_rule):\n",
    "            \n",
    "                cur_seen[rule_nb] = new_rule\n",
    "                rules[rule_nb] = new_rule\n",
    "\n",
    "    seen_rules = cur_seen"
   ]
  },
  {
   "cell_type": "code",
   "execution_count": null,
   "metadata": {},
   "outputs": [],
   "source": [
    "valid_messages = set(msg.replace(\" \", \"\") for msg in rules[\"0\"])"
   ]
  },
  {
   "cell_type": "code",
   "execution_count": null,
   "metadata": {},
   "outputs": [],
   "source": [
    "total = 0\n",
    "for msg in messages:\n",
    "    if msg in valid_messages:\n",
    "        total += 1\n",
    "total"
   ]
  },
  {
   "cell_type": "markdown",
   "metadata": {},
   "source": [
    "### Part 2"
   ]
  },
  {
   "cell_type": "code",
   "execution_count": null,
   "metadata": {},
   "outputs": [],
   "source": [
    "set_42 = set(msg.replace(\" \", \"\") for msg in rules[\"42\"])\n",
    "set_31 = set(msg.replace(\" \", \"\") for msg in rules[\"31\"])"
   ]
  },
  {
   "cell_type": "code",
   "execution_count": null,
   "metadata": {},
   "outputs": [],
   "source": [
    "total = 0\n",
    "for msg in messages:\n",
    "    new_msg = []\n",
    "    for idx in range(0,len(msg),8):\n",
    "        sub = msg[idx:idx+8]\n",
    "        if sub in set_42:\n",
    "            new_msg.append(\"A\")\n",
    "        elif sub in set_31:\n",
    "            new_msg.append(\"B\")\n",
    "        \n",
    "    new_msg = \"\".join(new_msg)\n",
    "\n",
    "    match = re.match(\"^(A+)(B+)$\", new_msg) \n",
    "\n",
    "    if match is not None and len(match.group(1)) > len(match.group(2)):\n",
    "        total += 1\n",
    "        \n",
    "total"
   ]
  },
  {
   "cell_type": "markdown",
   "metadata": {},
   "source": [
    "## Day 20"
   ]
  },
  {
   "cell_type": "markdown",
   "metadata": {},
   "source": [
    "### Prepare input"
   ]
  },
  {
   "cell_type": "code",
   "execution_count": null,
   "metadata": {},
   "outputs": [],
   "source": [
    "filename = \"input_day20.txt\"\n",
    "\n",
    "with open(filename) as f:\n",
    "    content = f.readlines()"
   ]
  },
  {
   "cell_type": "code",
   "execution_count": null,
   "metadata": {},
   "outputs": [],
   "source": [
    "content = \"\".join(content).split(\"\\n\\n\")[:-1]"
   ]
  },
  {
   "cell_type": "code",
   "execution_count": null,
   "metadata": {},
   "outputs": [],
   "source": [
    "content = [(line[5:9], line.split(\"\\n\")[1:]) for line in content]"
   ]
  },
  {
   "cell_type": "code",
   "execution_count": null,
   "metadata": {},
   "outputs": [],
   "source": [
    "class Tile:\n",
    "    def __init__(self, tile_id, tile_lines, matches=None):\n",
    "        self.id = int(tile_id)\n",
    "        self.lines = tile_lines\n",
    "        \n",
    "        self.matches = matches or []\n",
    "        \n",
    "    @property\n",
    "    def top(self):\n",
    "        return self.lines[0]\n",
    "    @property\n",
    "    def bottom(self):\n",
    "        return self.lines[-1]\n",
    "    @property\n",
    "    def left(self):\n",
    "        return \"\".join(line[0] for line in self.lines)\n",
    "        \n",
    "    @property\n",
    "    def right(self):\n",
    "        return \"\".join(line[-1] for line in self.lines)\n",
    "    \n",
    "    @property    \n",
    "    def borders(self):\n",
    "        return [self.top, self.right, self.bottom, self.left]\n",
    "    \n",
    "    @property\n",
    "    def flipped(self):\n",
    "        return [border[::-1] for border in self.borders]\n",
    "    \n",
    "    def find_same(self, other):\n",
    "        \"\"\" other is Tile object \"\"\"\n",
    "        if other.id != self.id:\n",
    "            all_others = other.borders + other.flipped\n",
    "            for bord in all_others:\n",
    "                if bord in self.borders:\n",
    "                    bord_idx = self.borders.index(bord)\n",
    "                    self.matches.append(other.id)\n",
    "    \n",
    "    "
   ]
  },
  {
   "cell_type": "code",
   "execution_count": null,
   "metadata": {},
   "outputs": [],
   "source": [
    "tiles = [Tile(tid, tlines) for tid, tlines in content]"
   ]
  },
  {
   "cell_type": "markdown",
   "metadata": {},
   "source": [
    "### Part 1"
   ]
  },
  {
   "cell_type": "code",
   "execution_count": null,
   "metadata": {},
   "outputs": [],
   "source": [
    "for tile in tiles:\n",
    "    for other in tiles:\n",
    "        tile.find_same(other)"
   ]
  },
  {
   "cell_type": "code",
   "execution_count": null,
   "metadata": {},
   "outputs": [],
   "source": [
    "from collections import Counter\n",
    "\n",
    "Counter([len(tile.matches) for tile in tiles])"
   ]
  },
  {
   "cell_type": "code",
   "execution_count": null,
   "metadata": {},
   "outputs": [],
   "source": [
    "tot = 1\n",
    "for tile in tiles:\n",
    "    if len(tile.matches) == 2:\n",
    "        print(tile.id)\n",
    "        tot *= int(tile.id)\n",
    "tot"
   ]
  },
  {
   "cell_type": "markdown",
   "metadata": {},
   "source": [
    "### Part 2"
   ]
  },
  {
   "cell_type": "code",
   "execution_count": null,
   "metadata": {},
   "outputs": [],
   "source": [
    "def hflip(tile):\n",
    "    new_lines = [line[::-1] for line in tile.lines]\n",
    "    return Tile(tile.id, new_lines, tile.matches)\n",
    "\n",
    "def vflip(tile):\n",
    "    new_lines = tile.lines[::-1]\n",
    "    return Tile(tile.id, new_lines, tile.matches)\n",
    "\n",
    "def rot_left90(tile):\n",
    "    cols = []\n",
    "    for idx in range(len(tile.lines[0])):\n",
    "        cols.append(\"\".join(line[idx] for line in tile.lines))\n",
    "    new_lines = [col[::-1] for col in cols]\n",
    "    return Tile(tile.id, new_lines, tile.matches)"
   ]
  },
  {
   "cell_type": "code",
   "execution_count": null,
   "metadata": {},
   "outputs": [],
   "source": [
    "def get_all_orientations(tile):\n",
    "    return [\n",
    "        tile,\n",
    "        rot_left90(tile),\n",
    "        rot_left90(rot_left90(tile)),\n",
    "        rot_left90(rot_left90(rot_left90(tile))),\n",
    "        vflip(tile),\n",
    "        rot_left90(vflip(tile)),\n",
    "        hflip(tile),\n",
    "        rot_left90(hflip(tile)),\n",
    "    ]"
   ]
  },
  {
   "cell_type": "code",
   "execution_count": null,
   "metadata": {},
   "outputs": [],
   "source": [
    "tiles_dict = {tile.id:tile for tile in tiles}"
   ]
  },
  {
   "cell_type": "code",
   "execution_count": null,
   "metadata": {},
   "outputs": [],
   "source": [
    "corners = [tile for tile in tiles if len(tile.matches)==2]"
   ]
  },
  {
   "cell_type": "code",
   "execution_count": null,
   "metadata": {},
   "outputs": [],
   "source": [
    "topright = corners[0]"
   ]
  },
  {
   "cell_type": "code",
   "execution_count": null,
   "metadata": {},
   "outputs": [],
   "source": [
    "topright.x = 11\n",
    "topright.y = 0"
   ]
  },
  {
   "cell_type": "code",
   "execution_count": null,
   "metadata": {},
   "outputs": [],
   "source": [
    "kept_tiles = {topright.id: topright}\n",
    "to_process = [topright]\n",
    "seen_tiles = set()\n",
    "\n",
    "while to_process:\n",
    "    \n",
    "    cur_tile = to_process.pop()\n",
    "    if cur_tile.id in seen_tiles:\n",
    "        continue\n",
    "\n",
    "    for match_id in cur_tile.matches:\n",
    "\n",
    "        match = tiles_dict[match_id]\n",
    "        match_orients = get_all_orientations(match)\n",
    "\n",
    "        for mo in match_orients: \n",
    "            if mo.left == cur_tile.right:\n",
    "                mo.x = cur_tile.x + 1\n",
    "                mo.y = cur_tile.y \n",
    "                kept_tiles[mo.id] = mo\n",
    "                to_process.append(mo)\n",
    "                break \n",
    "            elif mo.right == cur_tile.left:\n",
    "                mo.x = cur_tile.x - 1\n",
    "                mo.y = cur_tile.y \n",
    "                kept_tiles[mo.id] = mo\n",
    "                to_process.append(mo)\n",
    "                break \n",
    "\n",
    "            elif mo.top == cur_tile.bottom:\n",
    "                mo.x = cur_tile.x\n",
    "                mo.y = cur_tile.y + 1\n",
    "                kept_tiles[mo.id] = mo\n",
    "                to_process.append(mo)\n",
    "                break \n",
    "            elif mo.bottom == cur_tile.top:\n",
    "                mo.x = cur_tile.x\n",
    "                mo.y = cur_tile.y - 1\n",
    "                kept_tiles[mo.id] = mo\n",
    "                to_process.append(mo)\n",
    "                break \n",
    "\n",
    "    seen_tiles.add(cur_tile.id)\n",
    "                "
   ]
  },
  {
   "cell_type": "code",
   "execution_count": null,
   "metadata": {},
   "outputs": [],
   "source": [
    "from collections import defaultdict\n",
    "\n",
    "tilemap = defaultdict(dict)\n",
    "for tile in kept_tiles.values():\n",
    "    tilemap[tile.x][tile.y] = tile"
   ]
  },
  {
   "cell_type": "code",
   "execution_count": null,
   "metadata": {},
   "outputs": [],
   "source": [
    "map_rows = []\n",
    "for y in range(12):       \n",
    "    for z in range(1,9):\n",
    "        row = \"\"\n",
    "        for x in range(12):\n",
    "            row += tilemap[x][y].lines[z][1:-1]\n",
    "        map_rows.append(row)"
   ]
  },
  {
   "cell_type": "code",
   "execution_count": null,
   "metadata": {},
   "outputs": [],
   "source": [
    "sea_monster = [\n",
    "    \"                  # \",\n",
    "    \"#    ##    ##    ###\",\n",
    "    \" #  #  #  #  #  #   \"]\n",
    "sea_monster = [line.replace(\" \", \".\") for line in sea_monster]"
   ]
  },
  {
   "cell_type": "code",
   "execution_count": null,
   "metadata": {},
   "outputs": [],
   "source": [
    "import re\n",
    "import regex\n",
    "\n",
    "def find_sea_monsters(rows):\n",
    "    count_sea_monsters = 0 \n",
    "    \n",
    "    for idx, line in enumerate(rows[:-2]):  \n",
    "        found = regex.finditer(sea_monster[0], line, overlapped=True)\n",
    "        if found:\n",
    "            for el in found:\n",
    "                pos = el.start()\n",
    "                if pos < len(line)-20:\n",
    "                    second = rows[idx+1][pos:pos+20]\n",
    "                    third = rows[idx+2][pos:pos+20]\n",
    "                    if re.match(sea_monster[1], second) and re.match(sea_monster[2], third):\n",
    "                        count_sea_monsters += 1\n",
    "    return count_sea_monsters"
   ]
  },
  {
   "cell_type": "code",
   "execution_count": null,
   "metadata": {},
   "outputs": [],
   "source": [
    "map_tile = Tile(0, map_rows)"
   ]
  },
  {
   "cell_type": "code",
   "execution_count": null,
   "metadata": {},
   "outputs": [],
   "source": [
    "map_orientations = get_all_orientations(map_tile)"
   ]
  },
  {
   "cell_type": "code",
   "execution_count": null,
   "metadata": {},
   "outputs": [],
   "source": [
    "for map_ in map_orientations:\n",
    "    res = find_sea_monsters(map_.lines)\n",
    "    if res != 0:\n",
    "        break"
   ]
  },
  {
   "cell_type": "code",
   "execution_count": null,
   "metadata": {},
   "outputs": [],
   "source": [
    "Counter(\"\".join(map_tile.lines))[\"#\"] - Counter(\"\".join(sea_monster))[\"#\"]*res"
   ]
  },
  {
   "cell_type": "markdown",
   "metadata": {},
   "source": [
    "## Day 21"
   ]
  },
  {
   "cell_type": "markdown",
   "metadata": {},
   "source": [
    "### Prepare input"
   ]
  },
  {
   "cell_type": "code",
   "execution_count": null,
   "metadata": {},
   "outputs": [],
   "source": [
    "filename = \"input_day21.txt\"\n",
    "with open(filename) as f:\n",
    "    content = f.readlines()\n",
    "    \n",
    "content = [x.strip() for x in content]"
   ]
  },
  {
   "cell_type": "code",
   "execution_count": null,
   "metadata": {},
   "outputs": [],
   "source": [
    "import re\n",
    "pattern = re.compile(r\"(.*) \\(contains (.*)\\)\")"
   ]
  },
  {
   "cell_type": "code",
   "execution_count": null,
   "metadata": {},
   "outputs": [],
   "source": [
    "from collections import Counter\n",
    "\n",
    "allergens_dict = {}\n",
    "\n",
    "count_ingr = Counter()\n",
    "\n",
    "for line in content:\n",
    "    ingr, allergens = pattern.match(line).groups()\n",
    "    ingr = ingr.split()\n",
    "    count_ingr += Counter(ingr)\n",
    "    \n",
    "    allergens = allergens.split(\", \")\n",
    "    for al in allergens:\n",
    "        if al in allergens_dict.keys():\n",
    "            allergens_dict[al] = allergens_dict[al].intersection(set(ingr))\n",
    "        else:\n",
    "            allergens_dict[al] = set(ingr)"
   ]
  },
  {
   "cell_type": "markdown",
   "metadata": {},
   "source": [
    "### Part 1"
   ]
  },
  {
   "cell_type": "code",
   "execution_count": null,
   "metadata": {},
   "outputs": [],
   "source": [
    "bad_ingr = set.union(*allergens_dict.values())"
   ]
  },
  {
   "cell_type": "code",
   "execution_count": null,
   "metadata": {},
   "outputs": [],
   "source": [
    "sum(count for ingr, count in count_ingr.items() if ingr not in bad_ingr)"
   ]
  },
  {
   "cell_type": "markdown",
   "metadata": {},
   "source": [
    "### Part 2"
   ]
  },
  {
   "cell_type": "code",
   "execution_count": null,
   "metadata": {},
   "outputs": [],
   "source": [
    "matches = {}\n",
    "while len(matches) < len(allergens_dict):\n",
    "    for al, ingrs in allergens_dict.items():\n",
    "        left_ingrs = ingrs - set(matches.keys())\n",
    "        if len(left_ingrs) == 1:\n",
    "            ingr = list(left_ingrs)[0]\n",
    "            matches[ingr] = al\n",
    "            break"
   ]
  },
  {
   "cell_type": "code",
   "execution_count": null,
   "metadata": {},
   "outputs": [],
   "source": [
    "\",\".join([ingr for ingr, al in sorted(matches.items(), key=lambda item: item[1])])"
   ]
  },
  {
   "cell_type": "markdown",
   "metadata": {},
   "source": [
    "## Day 22"
   ]
  },
  {
   "cell_type": "markdown",
   "metadata": {},
   "source": [
    "### Prepare input"
   ]
  },
  {
   "cell_type": "code",
   "execution_count": null,
   "metadata": {},
   "outputs": [],
   "source": [
    "filename = \"input_day22.txt\"\n",
    "with open(filename) as f:\n",
    "    content = f.readlines()"
   ]
  },
  {
   "cell_type": "code",
   "execution_count": null,
   "metadata": {},
   "outputs": [],
   "source": [
    "play1, play2 = \"\".join(content).split(\"\\n\\n\")"
   ]
  },
  {
   "cell_type": "code",
   "execution_count": null,
   "metadata": {},
   "outputs": [],
   "source": [
    "from collections import deque\n",
    "\n",
    "play1 = deque([int(x) for x in play1.split(\"\\n\")[1:]])\n",
    "play2 = deque([int(x) for x in play2.split(\"\\n\")[1:-1]])"
   ]
  },
  {
   "cell_type": "markdown",
   "metadata": {},
   "source": [
    "### Part 1"
   ]
  },
  {
   "cell_type": "code",
   "execution_count": null,
   "metadata": {},
   "outputs": [],
   "source": [
    "def combat(play1, play2):\n",
    "    while play1 and play2:\n",
    "        card1, card2 = play1.popleft(), play2.popleft()\n",
    "        if card1 > card2:\n",
    "            play1.extend([card1, card2])\n",
    "        elif card2>card1:\n",
    "            play2.extend([card2, card1])\n",
    "        else:\n",
    "            print(\"draw\")\n",
    "    \n",
    "    if play1:\n",
    "        return play1\n",
    "    if play2:\n",
    "        return play2"
   ]
  },
  {
   "cell_type": "code",
   "execution_count": null,
   "metadata": {},
   "outputs": [],
   "source": [
    "def get_total(winner):\n",
    "    total=0\n",
    "    for idx in range(1,len(winner)+1):\n",
    "        card = winner.pop()\n",
    "        total += (idx * card)\n",
    "    return total"
   ]
  },
  {
   "cell_type": "code",
   "execution_count": null,
   "metadata": {},
   "outputs": [],
   "source": [
    "get_total(combat(play1, play2))"
   ]
  },
  {
   "cell_type": "markdown",
   "metadata": {},
   "source": [
    "### Part 2"
   ]
  },
  {
   "cell_type": "markdown",
   "metadata": {},
   "source": [
    "# Need to reset deques !! "
   ]
  },
  {
   "cell_type": "code",
   "execution_count": null,
   "metadata": {},
   "outputs": [],
   "source": [
    "def rec_combat(deck1, deck2):\n",
    "    \n",
    "    seen = set()\n",
    "    while deck1 and deck2:\n",
    "        \n",
    "        if (tuple(deck1), tuple(deck2)) in seen:\n",
    "            return 1, deck1\n",
    "        \n",
    "        seen.add((tuple(deck1), tuple(deck2)))\n",
    "\n",
    "        card1, card2 = deck1.popleft(), deck2.popleft()\n",
    "\n",
    "        if len(deck1) >= card1 and len(deck2) >= card2:\n",
    "            sub_deck1 = deque(list(deck1)[:card1])\n",
    "            sub_deck2 = deque(list(deck2)[:card2])\n",
    "            win, _ = rec_combat(sub_deck1, sub_deck2)\n",
    "        else:\n",
    "            win = 1 if card1 > card2 else 2\n",
    "        \n",
    "        if win == 1:\n",
    "            deck1.extend([card1, card2])\n",
    "        elif win == 2:\n",
    "            deck2.extend([card2, card1])\n",
    "       \n",
    "    if deck1:\n",
    "        return 1, deck1\n",
    "    if deck2:\n",
    "        return 2, deck2\n",
    "        "
   ]
  },
  {
   "cell_type": "code",
   "execution_count": null,
   "metadata": {},
   "outputs": [],
   "source": [
    "get_total(rec_combat(play1, play2)[1])"
   ]
  },
  {
   "cell_type": "code",
   "execution_count": null,
   "metadata": {},
   "outputs": [],
   "source": []
  }
 ],
 "metadata": {
  "kernelspec": {
   "display_name": "Python [conda env:aoc]",
   "language": "python",
   "name": "conda-env-aoc-py"
  },
  "language_info": {
   "codemirror_mode": {
    "name": "ipython",
    "version": 3
   },
   "file_extension": ".py",
   "mimetype": "text/x-python",
   "name": "python",
   "nbconvert_exporter": "python",
   "pygments_lexer": "ipython3",
   "version": "3.8.5"
  }
 },
 "nbformat": 4,
 "nbformat_minor": 2
}
