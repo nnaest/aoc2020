{
 "cells": [
  {
   "cell_type": "markdown",
   "metadata": {},
   "source": [
    "## Day 1"
   ]
  },
  {
   "cell_type": "markdown",
   "metadata": {},
   "source": [
    "### Prepare input"
   ]
  },
  {
   "cell_type": "code",
   "execution_count": null,
   "metadata": {},
   "outputs": [],
   "source": [
    "filename = \"input_day1.txt\"\n",
    "with open(filename) as f:\n",
    "    content = f.readlines()"
   ]
  },
  {
   "cell_type": "code",
   "execution_count": null,
   "metadata": {},
   "outputs": [],
   "source": [
    "content = [int(x.strip()) for x in content[:-1]]"
   ]
  },
  {
   "cell_type": "markdown",
   "metadata": {},
   "source": [
    "### Part 1"
   ]
  },
  {
   "cell_type": "code",
   "execution_count": null,
   "metadata": {},
   "outputs": [],
   "source": [
    "for i in content:\n",
    "    for j in content:\n",
    "        if i == j:\n",
    "            continue\n",
    "        if i+j == 2020:\n",
    "            print(i,j) "
   ]
  },
  {
   "cell_type": "code",
   "execution_count": null,
   "metadata": {},
   "outputs": [],
   "source": [
    "1165 * 855"
   ]
  },
  {
   "cell_type": "markdown",
   "metadata": {},
   "source": [
    "### Part 2"
   ]
  },
  {
   "cell_type": "code",
   "execution_count": null,
   "metadata": {},
   "outputs": [],
   "source": [
    "for i in content:\n",
    "    for j in content:\n",
    "        for k in content:\n",
    "            if i == j or i == k or j == k: \n",
    "                continue\n",
    "            if i+j+k == 2020:\n",
    "                print(i,j,k)      \n",
    "    "
   ]
  },
  {
   "cell_type": "code",
   "execution_count": null,
   "metadata": {},
   "outputs": [],
   "source": [
    "168 * 185 * 1667"
   ]
  },
  {
   "cell_type": "markdown",
   "metadata": {},
   "source": [
    "## Day 2"
   ]
  },
  {
   "cell_type": "markdown",
   "metadata": {},
   "source": [
    "### Prepare input"
   ]
  },
  {
   "cell_type": "code",
   "execution_count": null,
   "metadata": {},
   "outputs": [],
   "source": [
    "filename = \"input_day2.txt\"\n",
    "with open(filename) as f:\n",
    "    content = f.readlines()\n",
    "    \n",
    "content = [x.strip() for x in content]"
   ]
  },
  {
   "cell_type": "code",
   "execution_count": null,
   "metadata": {},
   "outputs": [],
   "source": [
    "content = [x.split(\":\") for x in content]"
   ]
  },
  {
   "cell_type": "code",
   "execution_count": null,
   "metadata": {},
   "outputs": [],
   "source": [
    "content = [[x.split(\" \"), y.strip()] for x, y in content]"
   ]
  },
  {
   "cell_type": "code",
   "execution_count": null,
   "metadata": {},
   "outputs": [],
   "source": [
    "new_content = []\n",
    "for x,y in content: \n",
    "    m = x[0]\n",
    "    n = m.split(\"-\")\n",
    "    new_content.append([int(n[0]), int(n[1]), x[1], y])"
   ]
  },
  {
   "cell_type": "markdown",
   "metadata": {},
   "source": [
    "### Part 1"
   ]
  },
  {
   "cell_type": "code",
   "execution_count": null,
   "metadata": {},
   "outputs": [],
   "source": [
    "valid_count = 0\n",
    "for mi, ma, key, pwd in new_content:\n",
    "    c = pwd.count(key)\n",
    "    if c >= mi and c <= ma:\n",
    "        valid_count += 1"
   ]
  },
  {
   "cell_type": "code",
   "execution_count": null,
   "metadata": {},
   "outputs": [],
   "source": [
    "valid_count"
   ]
  },
  {
   "cell_type": "markdown",
   "metadata": {},
   "source": [
    "### Part 2"
   ]
  },
  {
   "cell_type": "code",
   "execution_count": null,
   "metadata": {},
   "outputs": [],
   "source": [
    "valid_count = 0\n",
    "for mi, ma, key, pwd in new_content:\n",
    "    if (pwd[mi - 1] == key and pwd[ma - 1] != key) or (pwd[mi - 1] != key and pwd[ma - 1] == key):\n",
    "        valid_count += 1             "
   ]
  },
  {
   "cell_type": "code",
   "execution_count": null,
   "metadata": {},
   "outputs": [],
   "source": [
    "valid_count"
   ]
  },
  {
   "cell_type": "markdown",
   "metadata": {},
   "source": [
    "## Day 3"
   ]
  },
  {
   "cell_type": "markdown",
   "metadata": {},
   "source": [
    "### Prepare input"
   ]
  },
  {
   "cell_type": "code",
   "execution_count": null,
   "metadata": {},
   "outputs": [],
   "source": [
    "filename = \"input_day3.txt\"\n",
    "with open(filename) as f:\n",
    "    content = f.readlines()\n",
    "\n",
    "content = [x.strip() for x in content]"
   ]
  },
  {
   "cell_type": "markdown",
   "metadata": {},
   "source": [
    "### Part 1"
   ]
  },
  {
   "cell_type": "code",
   "execution_count": null,
   "metadata": {},
   "outputs": [],
   "source": [
    "n_lines = len(content)\n",
    "line_length = len(content[0])"
   ]
  },
  {
   "cell_type": "code",
   "execution_count": null,
   "metadata": {},
   "outputs": [],
   "source": [
    "def count_trees(r_step, d_step):\n",
    "    char_idx = 0\n",
    "    line_idx = 0\n",
    "    count_trees = 0\n",
    "\n",
    "    while line_idx < n_lines:\n",
    "        char_idx = char_idx % line_length\n",
    "        if content[line_idx][char_idx] == '#':\n",
    "            count_trees += 1\n",
    "        line_idx += d_step\n",
    "        char_idx += r_step\n",
    "    \n",
    "    return count_trees"
   ]
  },
  {
   "cell_type": "code",
   "execution_count": null,
   "metadata": {},
   "outputs": [],
   "source": [
    "count_trees(3,1)"
   ]
  },
  {
   "cell_type": "markdown",
   "metadata": {},
   "source": [
    "### Part 2"
   ]
  },
  {
   "cell_type": "code",
   "execution_count": null,
   "metadata": {},
   "outputs": [],
   "source": [
    "count_trees(1,1) * count_trees(3,1) * count_trees(5,1) * count_trees(7,1) * count_trees(1,2)"
   ]
  },
  {
   "cell_type": "markdown",
   "metadata": {},
   "source": [
    "## Day 4"
   ]
  },
  {
   "cell_type": "markdown",
   "metadata": {},
   "source": [
    "### Prepare input"
   ]
  },
  {
   "cell_type": "code",
   "execution_count": null,
   "metadata": {},
   "outputs": [],
   "source": [
    "filename = \"input_day4.txt\"\n",
    "with open(filename) as f:\n",
    "    content = f.readlines()\n",
    "\n",
    "content = [x.strip() for x in content]"
   ]
  },
  {
   "cell_type": "code",
   "execution_count": null,
   "metadata": {},
   "outputs": [],
   "source": [
    "new_content = []\n",
    "cur_pass = {}\n",
    "for line in content:\n",
    "    if not line:\n",
    "        new_content.append(cur_pass)\n",
    "        cur_pass = {}\n",
    "        continue\n",
    "    line_list = line.split(\" \")\n",
    "    for el in line_list:\n",
    "        key, value = el.split(\":\")\n",
    "        cur_pass[key] = value"
   ]
  },
  {
   "cell_type": "markdown",
   "metadata": {},
   "source": [
    "### Part 1"
   ]
  },
  {
   "cell_type": "code",
   "execution_count": null,
   "metadata": {},
   "outputs": [],
   "source": [
    "keys = [\"byr\", \"iyr\", \"eyr\", \"hgt\", \"hcl\", \"ecl\", \"pid\"]\n",
    "valid_count = 0\n",
    "for pass_dict in new_content:\n",
    "    if all(k in pass_dict.keys() for k in keys):\n",
    "        valid_count += 1\n"
   ]
  },
  {
   "cell_type": "code",
   "execution_count": null,
   "metadata": {},
   "outputs": [],
   "source": [
    "valid_count"
   ]
  },
  {
   "cell_type": "markdown",
   "metadata": {},
   "source": [
    "### Part 2"
   ]
  },
  {
   "cell_type": "code",
   "execution_count": null,
   "metadata": {},
   "outputs": [],
   "source": [
    "import re\n",
    "\n",
    "valid_count = 0\n",
    "\n",
    "for pass_dict in new_content:\n",
    "    if all(k in pass_dict.keys() for k in keys):\n",
    "        if (\n",
    "            (1920 <= int(pass_dict[\"byr\"]) <= 2002) and \n",
    "            (2010 <= int(pass_dict[\"iyr\"]) <= 2020) and\n",
    "            (2020 <= int(pass_dict[\"eyr\"]) <= 2030) and\n",
    "            (\n",
    "                (\"cm\" in pass_dict[\"hgt\"] and 150 <= int(re.findall(r\"\\d+\", pass_dict[\"hgt\"])[0]) <= 193) or \n",
    "                (\"in\" in pass_dict[\"hgt\"] and 59 <= int(re.findall(r\"\\d+\", pass_dict[\"hgt\"])[0]) <= 76)\n",
    "            ) and\n",
    "            (re.search(r\"^#[a-f0-9]{6}$\", pass_dict[\"hcl\"])) and\n",
    "            (pass_dict[\"ecl\"] in [\"amb\",\"blu\",\"brn\",\"gry\",\"grn\",\"hzl\",\"oth\"]) and\n",
    "            (re.search(r\"^[0-9]{9}$\", pass_dict[\"pid\"]))\n",
    "           ):\n",
    "            valid_count += 1\n",
    "             \n",
    "        "
   ]
  },
  {
   "cell_type": "code",
   "execution_count": null,
   "metadata": {},
   "outputs": [],
   "source": [
    "valid_count"
   ]
  },
  {
   "cell_type": "markdown",
   "metadata": {},
   "source": [
    "## Day 5"
   ]
  },
  {
   "cell_type": "markdown",
   "metadata": {},
   "source": [
    "### Prepare input"
   ]
  },
  {
   "cell_type": "code",
   "execution_count": null,
   "metadata": {},
   "outputs": [],
   "source": [
    "filename = \"input_day5.txt\"\n",
    "with open(filename) as f:\n",
    "    content = f.readlines()\n",
    "\n",
    "content = [x.strip() for x in content]"
   ]
  },
  {
   "cell_type": "markdown",
   "metadata": {},
   "source": [
    "### Part 1"
   ]
  },
  {
   "cell_type": "code",
   "execution_count": null,
   "metadata": {},
   "outputs": [],
   "source": [
    "def get_low_high(low, high, letter):    \n",
    "    half = (high - low) // 2\n",
    "    if letter == \"F\" or letter == \"L\":\n",
    "        return low, low + half\n",
    "    if letter == \"B\" or letter == \"R\":\n",
    "        return low + half + 1, high"
   ]
  },
  {
   "cell_type": "code",
   "execution_count": null,
   "metadata": {},
   "outputs": [],
   "source": [
    "def seat_id(row, col):\n",
    "    return row * 8 + col"
   ]
  },
  {
   "cell_type": "code",
   "execution_count": null,
   "metadata": {},
   "outputs": [],
   "source": [
    "seat_ids = []\n",
    "\n",
    "for line in content:\n",
    "    row_info = line[:7]\n",
    "    col_info = line[7:]\n",
    "    \n",
    "    low = 0\n",
    "    high = 127\n",
    "    for letter in row_info[:-1]:\n",
    "        low, high = get_low_high(low,high,letter)\n",
    "    if row_info[-1] == \"F\":\n",
    "        row = low\n",
    "    elif row_info[-1] == \"B\":\n",
    "        row = high\n",
    "        \n",
    "    low = 0\n",
    "    high = 7\n",
    "    for letter in col_info[:-1]:\n",
    "        low, high = get_low_high(low,high,letter)\n",
    "    if col_info[-1] == \"L\":\n",
    "        col = low\n",
    "    elif col_info[-1] == \"R\":\n",
    "        col = high\n",
    "        \n",
    "    seat_ids.append(seat_id(row, col))"
   ]
  },
  {
   "cell_type": "code",
   "execution_count": null,
   "metadata": {},
   "outputs": [],
   "source": [
    "import numpy as np\n",
    "np.max(np.array(seat_ids))"
   ]
  },
  {
   "cell_type": "markdown",
   "metadata": {},
   "source": [
    "### Part 2"
   ]
  },
  {
   "cell_type": "code",
   "execution_count": null,
   "metadata": {},
   "outputs": [],
   "source": [
    "seat_ids.sort()"
   ]
  },
  {
   "cell_type": "code",
   "execution_count": null,
   "metadata": {},
   "outputs": [],
   "source": [
    "for idx, seat_id in enumerate(seat_ids[:-1]):\n",
    "    if idx==0:\n",
    "        continue\n",
    "    if seat_ids[idx-1] == seat_id - 1 and seat_ids[idx + 1] == seat_id + 1:\n",
    "        continue\n",
    "    else:\n",
    "        print(seat_id)\n"
   ]
  },
  {
   "cell_type": "code",
   "execution_count": null,
   "metadata": {},
   "outputs": [],
   "source": []
  }
 ],
 "metadata": {
  "kernelspec": {
   "display_name": "Python [conda env:aoc]",
   "language": "python",
   "name": "conda-env-aoc-py"
  },
  "language_info": {
   "codemirror_mode": {
    "name": "ipython",
    "version": 3
   },
   "file_extension": ".py",
   "mimetype": "text/x-python",
   "name": "python",
   "nbconvert_exporter": "python",
   "pygments_lexer": "ipython3",
   "version": "3.8.5"
  }
 },
 "nbformat": 4,
 "nbformat_minor": 2
}
